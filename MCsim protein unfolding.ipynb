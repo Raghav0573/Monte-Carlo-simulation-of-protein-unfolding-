{
 "cells": [
  {
   "cell_type": "code",
   "execution_count": 95,
   "id": "5bfe4dee",
   "metadata": {},
   "outputs": [],
   "source": [
    "import numpy as np\n",
    "import matplotlib.pyplot as plt\n",
    "import pandas as pd\n",
    "import random\n",
    "import time\n",
    "import math\n",
    "import matplotlib.animation as manimation\n",
    "from IPython.display import HTML\n",
    "import csv "
   ]
  },
  {
   "cell_type": "code",
   "execution_count": 19,
   "id": "b61fd52c",
   "metadata": {},
   "outputs": [],
   "source": [
    "x_orig = np.array([-1, -1, 0, 0, 1, 1, 2, 2, 2, 1, 0, -1, -1, 0, 1, 2])\n",
    "y_orig = np.array([0, -1, -1, 0, 0, -1, -1, 0, 1, 1, 1, 1, 2, 2, 2, 2])\n",
    "coords = np.mat([x_orig,y_orig]).T\n",
    "plt.plot(coords[:,0],coords[:,1], marker='o')\n",
    "plt.xlim(-5,+5)\n",
    "plt.ylim(-5,+5)\n",
    "plt.grid()\n",
    "plt.show()"
   ]
  },
  {
   "cell_type": "code",
   "execution_count": 20,
   "id": "6784ae32",
   "metadata": {},
   "outputs": [
    {
     "data": {
      "text/plain": [
       "1.5811388300841898"
      ]
     },
     "execution_count": 20,
     "metadata": {},
     "output_type": "execute_result"
    }
   ],
   "source": [
    "def rad_gyr(coords):\n",
    "    x_com = float(sum(coords[:,0])/16)\n",
    "    y_com = float(sum(coords[:,1])/16)\n",
    "    com = np.mat([[x_com],[y_com]])\n",
    "    r_g = 0\n",
    "    for i in range(16):\n",
    "        r_g += math.dist(coords[i].T,com)**2/16\n",
    "    r_g = math.sqrt(r_g)\n",
    "    return r_g\n",
    "rad_gyr(coords)"
   ]
  },
  {
   "cell_type": "code",
   "execution_count": 53,
   "id": "afe4b71e",
   "metadata": {},
   "outputs": [],
   "source": [
    "#Interaction Energies\n",
    "def interaction_check(coords):\n",
    "    Int_En = 0\n",
    "    for i in range(16):\n",
    "        for j in range(i+2,16):\n",
    "            if np.linalg.norm(coords[i] - coords[j]) == 1:\n",
    "#                 plt.plot([coords[i,0],coords[j,0]],[coords[i,1],coords[j,1]], 'o:k')\n",
    "                Int_En=Int_En+1\n",
    "    return Int_En\n",
    "interaction_check(coords)\n",
    "\n",
    "plt.plot(coords[:,0],coords[:,1], marker='o')\n",
    "plt.show()  \n"
   ]
  },
  {
   "cell_type": "code",
   "execution_count": 68,
   "id": "7b51747f",
   "metadata": {},
   "outputs": [
    {
     "data": {
      "text/plain": [
       "0"
      ]
     },
     "execution_count": 68,
     "metadata": {},
     "output_type": "execute_result"
    }
   ],
   "source": [
    "def orig_int_check(coords):\n",
    "    Int_En = 9 \n",
    "    if np.linalg.norm(coords[0]-coords[11]) !=1:\n",
    "        Int_En = Int_En - 1\n",
    "    if np.linalg.norm(coords[0]-coords[3]) !=1:\n",
    "        Int_En = Int_En - 1\n",
    "    if np.linalg.norm(coords[3]-coords[10]) !=1:\n",
    "        Int_En = Int_En - 1\n",
    "    if np.linalg.norm(coords[2]-coords[5]) !=1:\n",
    "        Int_En = Int_En - 1\n",
    "    if np.linalg.norm(coords[4]-coords[7]) !=1:\n",
    "        Int_En = Int_En - 1\n",
    "    if np.linalg.norm(coords[4]-coords[9]) !=1:\n",
    "        Int_En = Int_En - 1\n",
    "    if np.linalg.norm(coords[10]-coords[13]) !=1:\n",
    "        Int_En = Int_En - 1\n",
    "    if np.linalg.norm(coords[9]-coords[14]) !=1:\n",
    "        Int_En = Int_En - 1\n",
    "    if np.linalg.norm(coords[8]-coords[15]) !=1:\n",
    "        Int_En = Int_En - 1\n",
    "    return Int_En\n",
    "orig_int_check(coords)"
   ]
  },
  {
   "cell_type": "code",
   "execution_count": 104,
   "id": "15b96a51",
   "metadata": {},
   "outputs": [],
   "source": [
    "# END MOVE\n",
    "def end_move(p,energy):\n",
    "    if(p == 15):\n",
    "        if coords[p-1,0] == coords[p,0]:\n",
    "            poss_moves = [[coords[p-1,0]-1,coords[p-1,1]],\n",
    "                           [coords[p-1,0]+1,coords[p-1,1]]]\n",
    "            check = [1,1]\n",
    "            for i in range(2):\n",
    "                for j in range(coords.shape[0]):\n",
    "                    if j==p or j == p-1:\n",
    "                        continue\n",
    "                    if coords[j,0]==poss_moves[i][0] and coords[j,1]==poss_moves[i][1]:\n",
    "                        check[i] = 0\n",
    "                        break\n",
    "            metro_end(coords,p,energy,check,poss_moves)            \n",
    "        else:\n",
    "            poss_moves = [[coords[p-1,0],coords[p-1,1]+1],\n",
    "                           [coords[p-1,0],coords[p-1,1]-1]]\n",
    "            r_2 = random.randint(0,1)\n",
    "            check = [1,1]\n",
    "            for i in range(2):\n",
    "                for j in range(coords.shape[0]):\n",
    "                    if j==p or j == p-1:\n",
    "                        continue\n",
    "                    if coords[j,0]==poss_moves[i][0] and coords[j,1]==poss_moves[i][1]:\n",
    "                        check[i] = 0\n",
    "                        break\n",
    "            metro_end(coords,p,energy,check,poss_moves)\n",
    "                \n",
    "    else:\n",
    "        if coords[p+1,0] == coords[p,0]:\n",
    "            poss_moves = [[coords[p+1,0]-1,coords[p+1,1]],\n",
    "                           [coords[p+1,0]+1,coords[p+1,1]]]\n",
    "            check = [1,1]\n",
    "            for i in range(2):\n",
    "                for j in range(coords.shape[0]):\n",
    "                    if j==p or j == p+1:\n",
    "                        continue\n",
    "                    if coords[j,0]==poss_moves[i][0] and coords[j,1]==poss_moves[i][1]:\n",
    "                        check[i] = 0\n",
    "                        break\n",
    "            metro_end(coords,p,energy,check,poss_moves)\n",
    "        else:\n",
    "            poss_moves = [[coords[p+1,0],coords[p+1,1]+1],\n",
    "                           [coords[p+1,0],coords[p+1,1]-1]]\n",
    "            check = [1,1]\n",
    "            for i in range(2):\n",
    "                for j in range(coords.shape[0]):\n",
    "                    if j==p or j == p+1:\n",
    "                        continue\n",
    "                    if coords[j,0]==poss_moves[i][0] and coords[j,1]==poss_moves[i][1]:\n",
    "                        check[i] = 0\n",
    "                        break\n",
    "            metro_end(coords,p,energy,check,poss_moves)\n",
    "#     plt.plot(coords[:,0],coords[:,1], marker='o')\n",
    "#     plt.xlim(-5,5)\n",
    "#     plt.ylim(-5,5)\n",
    "#     plt.show()\n",
    "    return coords\n",
    "    "
   ]
  },
  {
   "cell_type": "code",
   "execution_count": 105,
   "id": "54f7c05b",
   "metadata": {},
   "outputs": [],
   "source": [
    "def metro_end(coords,p,energy,check,poss_moves):\n",
    "    e_ini = energy*orig_int_check(coords)\n",
    "    coords_1 = coords\n",
    "    if check[0] and check[1]:\n",
    "        r_2 = random.randint(0,1)\n",
    "        coords_1[p] = poss_moves[r_2]\n",
    "        e_fin = energy*orig_int_check(coords_1)\n",
    "        w = np.exp(e_ini - e_fin)\n",
    "        if w>1:\n",
    "            coords[p]=coords_1[p]\n",
    "        else: \n",
    "            r_3 = random.random()\n",
    "            if w>r_3:\n",
    "                coords[p]=coords_1[p]\n",
    "    elif check[0]:\n",
    "        coords_1[p] = poss_moves[0]\n",
    "        e_fin = energy*orig_int_check(coords_1)\n",
    "        w = np.exp(e_ini - e_fin)\n",
    "        if w>1:\n",
    "            coords[p]=coords_1[p]\n",
    "        else: \n",
    "            r_3 = random.random()\n",
    "            if w>r_3:\n",
    "                coords[p]=coords_1[p]\n",
    "    elif check[1]:\n",
    "        coords_1[p] = poss_moves[1]\n",
    "        e_fin = energy*orig_int_check(coords_1)\n",
    "        w = np.exp(e_ini - e_fin)\n",
    "        if w>1:\n",
    "            coords[p]=coords_1[p]\n",
    "        else: \n",
    "            r_3 = random.random()\n",
    "            if w>r_3:\n",
    "                coords[p]=coords_1[p]\n",
    "        \n",
    "        \n",
    "        "
   ]
  },
  {
   "cell_type": "code",
   "execution_count": 106,
   "id": "0244fe69",
   "metadata": {},
   "outputs": [],
   "source": [
    "def metro_corner(coords,p,energy):\n",
    "    e_ini = energy*orig_int_check(coords)\n",
    "    coords_1 = coords\n",
    "    coords_1[p] = [coords_1[p-1,0],coords_1[p+1,1]]\n",
    "    e_fin = energy*orig_int_check(coords_1)\n",
    "    w = np.exp(e_ini - e_fin)\n",
    "    if w>1:\n",
    "        coords[p] = coords_1[p]\n",
    "    else:\n",
    "        r_3 = random.random()\n",
    "        if w>r_3:\n",
    "            coords[p]=coords_1[p]\n",
    "    "
   ]
  },
  {
   "cell_type": "code",
   "execution_count": 107,
   "id": "7257d11d",
   "metadata": {},
   "outputs": [],
   "source": [
    "#CORNER MOVE \n",
    "def corner_move(p,energy):\n",
    "    if coords[p+1,0]==coords[p,0] and coords[p-1,1]== coords[p,1]:\n",
    "        check = 1\n",
    "        for j in range(coords.shape[0]):\n",
    "            if coords[j,0] == [coords[p-1,0]] and coords[j,1] == coords[p+1,1]:\n",
    "                check = 0\n",
    "                break\n",
    "        if check:\n",
    "            w = metro_corner(coords,p,energy)\n",
    "    elif coords[p-1,0]==coords[p,0] and coords[p+1,1]== coords[p,1]:\n",
    "        check = 1\n",
    "        for j in range(coords.shape[0]):\n",
    "            if coords[j,0] == [coords[p+1,0]] and coords[j,1] == coords[p-1,1]:\n",
    "                check = 0\n",
    "                break\n",
    "        if check:\n",
    "            w = metro_corner(coords,p,energy)\n",
    "    return coords  "
   ]
  },
  {
   "cell_type": "code",
   "execution_count": 132,
   "id": "de3cd0b0",
   "metadata": {},
   "outputs": [
    {
     "data": {
      "application/javascript": "/* Put everything inside the global mpl namespace */\n/* global mpl */\nwindow.mpl = {};\n\nmpl.get_websocket_type = function () {\n    if (typeof WebSocket !== 'undefined') {\n        return WebSocket;\n    } else if (typeof MozWebSocket !== 'undefined') {\n        return MozWebSocket;\n    } else {\n        alert(\n            'Your browser does not have WebSocket support. ' +\n                'Please try Chrome, Safari or Firefox ≥ 6. ' +\n                'Firefox 4 and 5 are also supported but you ' +\n                'have to enable WebSockets in about:config.'\n        );\n    }\n};\n\nmpl.figure = function (figure_id, websocket, ondownload, parent_element) {\n    this.id = figure_id;\n\n    this.ws = websocket;\n\n    this.supports_binary = this.ws.binaryType !== undefined;\n\n    if (!this.supports_binary) {\n        var warnings = document.getElementById('mpl-warnings');\n        if (warnings) {\n            warnings.style.display = 'block';\n            warnings.textContent =\n                'This browser does not support binary websocket messages. ' +\n                'Performance may be slow.';\n        }\n    }\n\n    this.imageObj = new Image();\n\n    this.context = undefined;\n    this.message = undefined;\n    this.canvas = undefined;\n    this.rubberband_canvas = undefined;\n    this.rubberband_context = undefined;\n    this.format_dropdown = undefined;\n\n    this.image_mode = 'full';\n\n    this.root = document.createElement('div');\n    this.root.setAttribute('style', 'display: inline-block');\n    this._root_extra_style(this.root);\n\n    parent_element.appendChild(this.root);\n\n    this._init_header(this);\n    this._init_canvas(this);\n    this._init_toolbar(this);\n\n    var fig = this;\n\n    this.waiting = false;\n\n    this.ws.onopen = function () {\n        fig.send_message('supports_binary', { value: fig.supports_binary });\n        fig.send_message('send_image_mode', {});\n        if (fig.ratio !== 1) {\n            fig.send_message('set_device_pixel_ratio', {\n                device_pixel_ratio: fig.ratio,\n            });\n        }\n        fig.send_message('refresh', {});\n    };\n\n    this.imageObj.onload = function () {\n        if (fig.image_mode === 'full') {\n            // Full images could contain transparency (where diff images\n            // almost always do), so we need to clear the canvas so that\n            // there is no ghosting.\n            fig.context.clearRect(0, 0, fig.canvas.width, fig.canvas.height);\n        }\n        fig.context.drawImage(fig.imageObj, 0, 0);\n    };\n\n    this.imageObj.onunload = function () {\n        fig.ws.close();\n    };\n\n    this.ws.onmessage = this._make_on_message_function(this);\n\n    this.ondownload = ondownload;\n};\n\nmpl.figure.prototype._init_header = function () {\n    var titlebar = document.createElement('div');\n    titlebar.classList =\n        'ui-dialog-titlebar ui-widget-header ui-corner-all ui-helper-clearfix';\n    var titletext = document.createElement('div');\n    titletext.classList = 'ui-dialog-title';\n    titletext.setAttribute(\n        'style',\n        'width: 100%; text-align: center; padding: 3px;'\n    );\n    titlebar.appendChild(titletext);\n    this.root.appendChild(titlebar);\n    this.header = titletext;\n};\n\nmpl.figure.prototype._canvas_extra_style = function (_canvas_div) {};\n\nmpl.figure.prototype._root_extra_style = function (_canvas_div) {};\n\nmpl.figure.prototype._init_canvas = function () {\n    var fig = this;\n\n    var canvas_div = (this.canvas_div = document.createElement('div'));\n    canvas_div.setAttribute(\n        'style',\n        'border: 1px solid #ddd;' +\n            'box-sizing: content-box;' +\n            'clear: both;' +\n            'min-height: 1px;' +\n            'min-width: 1px;' +\n            'outline: 0;' +\n            'overflow: hidden;' +\n            'position: relative;' +\n            'resize: both;'\n    );\n\n    function on_keyboard_event_closure(name) {\n        return function (event) {\n            return fig.key_event(event, name);\n        };\n    }\n\n    canvas_div.addEventListener(\n        'keydown',\n        on_keyboard_event_closure('key_press')\n    );\n    canvas_div.addEventListener(\n        'keyup',\n        on_keyboard_event_closure('key_release')\n    );\n\n    this._canvas_extra_style(canvas_div);\n    this.root.appendChild(canvas_div);\n\n    var canvas = (this.canvas = document.createElement('canvas'));\n    canvas.classList.add('mpl-canvas');\n    canvas.setAttribute('style', 'box-sizing: content-box;');\n\n    this.context = canvas.getContext('2d');\n\n    var backingStore =\n        this.context.backingStorePixelRatio ||\n        this.context.webkitBackingStorePixelRatio ||\n        this.context.mozBackingStorePixelRatio ||\n        this.context.msBackingStorePixelRatio ||\n        this.context.oBackingStorePixelRatio ||\n        this.context.backingStorePixelRatio ||\n        1;\n\n    this.ratio = (window.devicePixelRatio || 1) / backingStore;\n\n    var rubberband_canvas = (this.rubberband_canvas = document.createElement(\n        'canvas'\n    ));\n    rubberband_canvas.setAttribute(\n        'style',\n        'box-sizing: content-box; position: absolute; left: 0; top: 0; z-index: 1;'\n    );\n\n    // Apply a ponyfill if ResizeObserver is not implemented by browser.\n    if (this.ResizeObserver === undefined) {\n        if (window.ResizeObserver !== undefined) {\n            this.ResizeObserver = window.ResizeObserver;\n        } else {\n            var obs = _JSXTOOLS_RESIZE_OBSERVER({});\n            this.ResizeObserver = obs.ResizeObserver;\n        }\n    }\n\n    this.resizeObserverInstance = new this.ResizeObserver(function (entries) {\n        var nentries = entries.length;\n        for (var i = 0; i < nentries; i++) {\n            var entry = entries[i];\n            var width, height;\n            if (entry.contentBoxSize) {\n                if (entry.contentBoxSize instanceof Array) {\n                    // Chrome 84 implements new version of spec.\n                    width = entry.contentBoxSize[0].inlineSize;\n                    height = entry.contentBoxSize[0].blockSize;\n                } else {\n                    // Firefox implements old version of spec.\n                    width = entry.contentBoxSize.inlineSize;\n                    height = entry.contentBoxSize.blockSize;\n                }\n            } else {\n                // Chrome <84 implements even older version of spec.\n                width = entry.contentRect.width;\n                height = entry.contentRect.height;\n            }\n\n            // Keep the size of the canvas and rubber band canvas in sync with\n            // the canvas container.\n            if (entry.devicePixelContentBoxSize) {\n                // Chrome 84 implements new version of spec.\n                canvas.setAttribute(\n                    'width',\n                    entry.devicePixelContentBoxSize[0].inlineSize\n                );\n                canvas.setAttribute(\n                    'height',\n                    entry.devicePixelContentBoxSize[0].blockSize\n                );\n            } else {\n                canvas.setAttribute('width', width * fig.ratio);\n                canvas.setAttribute('height', height * fig.ratio);\n            }\n            canvas.setAttribute(\n                'style',\n                'width: ' + width + 'px; height: ' + height + 'px;'\n            );\n\n            rubberband_canvas.setAttribute('width', width);\n            rubberband_canvas.setAttribute('height', height);\n\n            // And update the size in Python. We ignore the initial 0/0 size\n            // that occurs as the element is placed into the DOM, which should\n            // otherwise not happen due to the minimum size styling.\n            if (fig.ws.readyState == 1 && width != 0 && height != 0) {\n                fig.request_resize(width, height);\n            }\n        }\n    });\n    this.resizeObserverInstance.observe(canvas_div);\n\n    function on_mouse_event_closure(name) {\n        return function (event) {\n            return fig.mouse_event(event, name);\n        };\n    }\n\n    rubberband_canvas.addEventListener(\n        'mousedown',\n        on_mouse_event_closure('button_press')\n    );\n    rubberband_canvas.addEventListener(\n        'mouseup',\n        on_mouse_event_closure('button_release')\n    );\n    rubberband_canvas.addEventListener(\n        'dblclick',\n        on_mouse_event_closure('dblclick')\n    );\n    // Throttle sequential mouse events to 1 every 20ms.\n    rubberband_canvas.addEventListener(\n        'mousemove',\n        on_mouse_event_closure('motion_notify')\n    );\n\n    rubberband_canvas.addEventListener(\n        'mouseenter',\n        on_mouse_event_closure('figure_enter')\n    );\n    rubberband_canvas.addEventListener(\n        'mouseleave',\n        on_mouse_event_closure('figure_leave')\n    );\n\n    canvas_div.addEventListener('wheel', function (event) {\n        if (event.deltaY < 0) {\n            event.step = 1;\n        } else {\n            event.step = -1;\n        }\n        on_mouse_event_closure('scroll')(event);\n    });\n\n    canvas_div.appendChild(canvas);\n    canvas_div.appendChild(rubberband_canvas);\n\n    this.rubberband_context = rubberband_canvas.getContext('2d');\n    this.rubberband_context.strokeStyle = '#000000';\n\n    this._resize_canvas = function (width, height, forward) {\n        if (forward) {\n            canvas_div.style.width = width + 'px';\n            canvas_div.style.height = height + 'px';\n        }\n    };\n\n    // Disable right mouse context menu.\n    this.rubberband_canvas.addEventListener('contextmenu', function (_e) {\n        event.preventDefault();\n        return false;\n    });\n\n    function set_focus() {\n        canvas.focus();\n        canvas_div.focus();\n    }\n\n    window.setTimeout(set_focus, 100);\n};\n\nmpl.figure.prototype._init_toolbar = function () {\n    var fig = this;\n\n    var toolbar = document.createElement('div');\n    toolbar.classList = 'mpl-toolbar';\n    this.root.appendChild(toolbar);\n\n    function on_click_closure(name) {\n        return function (_event) {\n            return fig.toolbar_button_onclick(name);\n        };\n    }\n\n    function on_mouseover_closure(tooltip) {\n        return function (event) {\n            if (!event.currentTarget.disabled) {\n                return fig.toolbar_button_onmouseover(tooltip);\n            }\n        };\n    }\n\n    fig.buttons = {};\n    var buttonGroup = document.createElement('div');\n    buttonGroup.classList = 'mpl-button-group';\n    for (var toolbar_ind in mpl.toolbar_items) {\n        var name = mpl.toolbar_items[toolbar_ind][0];\n        var tooltip = mpl.toolbar_items[toolbar_ind][1];\n        var image = mpl.toolbar_items[toolbar_ind][2];\n        var method_name = mpl.toolbar_items[toolbar_ind][3];\n\n        if (!name) {\n            /* Instead of a spacer, we start a new button group. */\n            if (buttonGroup.hasChildNodes()) {\n                toolbar.appendChild(buttonGroup);\n            }\n            buttonGroup = document.createElement('div');\n            buttonGroup.classList = 'mpl-button-group';\n            continue;\n        }\n\n        var button = (fig.buttons[name] = document.createElement('button'));\n        button.classList = 'mpl-widget';\n        button.setAttribute('role', 'button');\n        button.setAttribute('aria-disabled', 'false');\n        button.addEventListener('click', on_click_closure(method_name));\n        button.addEventListener('mouseover', on_mouseover_closure(tooltip));\n\n        var icon_img = document.createElement('img');\n        icon_img.src = '_images/' + image + '.png';\n        icon_img.srcset = '_images/' + image + '_large.png 2x';\n        icon_img.alt = tooltip;\n        button.appendChild(icon_img);\n\n        buttonGroup.appendChild(button);\n    }\n\n    if (buttonGroup.hasChildNodes()) {\n        toolbar.appendChild(buttonGroup);\n    }\n\n    var fmt_picker = document.createElement('select');\n    fmt_picker.classList = 'mpl-widget';\n    toolbar.appendChild(fmt_picker);\n    this.format_dropdown = fmt_picker;\n\n    for (var ind in mpl.extensions) {\n        var fmt = mpl.extensions[ind];\n        var option = document.createElement('option');\n        option.selected = fmt === mpl.default_extension;\n        option.innerHTML = fmt;\n        fmt_picker.appendChild(option);\n    }\n\n    var status_bar = document.createElement('span');\n    status_bar.classList = 'mpl-message';\n    toolbar.appendChild(status_bar);\n    this.message = status_bar;\n};\n\nmpl.figure.prototype.request_resize = function (x_pixels, y_pixels) {\n    // Request matplotlib to resize the figure. Matplotlib will then trigger a resize in the client,\n    // which will in turn request a refresh of the image.\n    this.send_message('resize', { width: x_pixels, height: y_pixels });\n};\n\nmpl.figure.prototype.send_message = function (type, properties) {\n    properties['type'] = type;\n    properties['figure_id'] = this.id;\n    this.ws.send(JSON.stringify(properties));\n};\n\nmpl.figure.prototype.send_draw_message = function () {\n    if (!this.waiting) {\n        this.waiting = true;\n        this.ws.send(JSON.stringify({ type: 'draw', figure_id: this.id }));\n    }\n};\n\nmpl.figure.prototype.handle_save = function (fig, _msg) {\n    var format_dropdown = fig.format_dropdown;\n    var format = format_dropdown.options[format_dropdown.selectedIndex].value;\n    fig.ondownload(fig, format);\n};\n\nmpl.figure.prototype.handle_resize = function (fig, msg) {\n    var size = msg['size'];\n    if (size[0] !== fig.canvas.width || size[1] !== fig.canvas.height) {\n        fig._resize_canvas(size[0], size[1], msg['forward']);\n        fig.send_message('refresh', {});\n    }\n};\n\nmpl.figure.prototype.handle_rubberband = function (fig, msg) {\n    var x0 = msg['x0'] / fig.ratio;\n    var y0 = (fig.canvas.height - msg['y0']) / fig.ratio;\n    var x1 = msg['x1'] / fig.ratio;\n    var y1 = (fig.canvas.height - msg['y1']) / fig.ratio;\n    x0 = Math.floor(x0) + 0.5;\n    y0 = Math.floor(y0) + 0.5;\n    x1 = Math.floor(x1) + 0.5;\n    y1 = Math.floor(y1) + 0.5;\n    var min_x = Math.min(x0, x1);\n    var min_y = Math.min(y0, y1);\n    var width = Math.abs(x1 - x0);\n    var height = Math.abs(y1 - y0);\n\n    fig.rubberband_context.clearRect(\n        0,\n        0,\n        fig.canvas.width / fig.ratio,\n        fig.canvas.height / fig.ratio\n    );\n\n    fig.rubberband_context.strokeRect(min_x, min_y, width, height);\n};\n\nmpl.figure.prototype.handle_figure_label = function (fig, msg) {\n    // Updates the figure title.\n    fig.header.textContent = msg['label'];\n};\n\nmpl.figure.prototype.handle_cursor = function (fig, msg) {\n    fig.rubberband_canvas.style.cursor = msg['cursor'];\n};\n\nmpl.figure.prototype.handle_message = function (fig, msg) {\n    fig.message.textContent = msg['message'];\n};\n\nmpl.figure.prototype.handle_draw = function (fig, _msg) {\n    // Request the server to send over a new figure.\n    fig.send_draw_message();\n};\n\nmpl.figure.prototype.handle_image_mode = function (fig, msg) {\n    fig.image_mode = msg['mode'];\n};\n\nmpl.figure.prototype.handle_history_buttons = function (fig, msg) {\n    for (var key in msg) {\n        if (!(key in fig.buttons)) {\n            continue;\n        }\n        fig.buttons[key].disabled = !msg[key];\n        fig.buttons[key].setAttribute('aria-disabled', !msg[key]);\n    }\n};\n\nmpl.figure.prototype.handle_navigate_mode = function (fig, msg) {\n    if (msg['mode'] === 'PAN') {\n        fig.buttons['Pan'].classList.add('active');\n        fig.buttons['Zoom'].classList.remove('active');\n    } else if (msg['mode'] === 'ZOOM') {\n        fig.buttons['Pan'].classList.remove('active');\n        fig.buttons['Zoom'].classList.add('active');\n    } else {\n        fig.buttons['Pan'].classList.remove('active');\n        fig.buttons['Zoom'].classList.remove('active');\n    }\n};\n\nmpl.figure.prototype.updated_canvas_event = function () {\n    // Called whenever the canvas gets updated.\n    this.send_message('ack', {});\n};\n\n// A function to construct a web socket function for onmessage handling.\n// Called in the figure constructor.\nmpl.figure.prototype._make_on_message_function = function (fig) {\n    return function socket_on_message(evt) {\n        if (evt.data instanceof Blob) {\n            var img = evt.data;\n            if (img.type !== 'image/png') {\n                /* FIXME: We get \"Resource interpreted as Image but\n                 * transferred with MIME type text/plain:\" errors on\n                 * Chrome.  But how to set the MIME type?  It doesn't seem\n                 * to be part of the websocket stream */\n                img.type = 'image/png';\n            }\n\n            /* Free the memory for the previous frames */\n            if (fig.imageObj.src) {\n                (window.URL || window.webkitURL).revokeObjectURL(\n                    fig.imageObj.src\n                );\n            }\n\n            fig.imageObj.src = (window.URL || window.webkitURL).createObjectURL(\n                img\n            );\n            fig.updated_canvas_event();\n            fig.waiting = false;\n            return;\n        } else if (\n            typeof evt.data === 'string' &&\n            evt.data.slice(0, 21) === 'data:image/png;base64'\n        ) {\n            fig.imageObj.src = evt.data;\n            fig.updated_canvas_event();\n            fig.waiting = false;\n            return;\n        }\n\n        var msg = JSON.parse(evt.data);\n        var msg_type = msg['type'];\n\n        // Call the  \"handle_{type}\" callback, which takes\n        // the figure and JSON message as its only arguments.\n        try {\n            var callback = fig['handle_' + msg_type];\n        } catch (e) {\n            console.log(\n                \"No handler for the '\" + msg_type + \"' message type: \",\n                msg\n            );\n            return;\n        }\n\n        if (callback) {\n            try {\n                // console.log(\"Handling '\" + msg_type + \"' message: \", msg);\n                callback(fig, msg);\n            } catch (e) {\n                console.log(\n                    \"Exception inside the 'handler_\" + msg_type + \"' callback:\",\n                    e,\n                    e.stack,\n                    msg\n                );\n            }\n        }\n    };\n};\n\n// from https://stackoverflow.com/questions/1114465/getting-mouse-location-in-canvas\nmpl.findpos = function (e) {\n    //this section is from http://www.quirksmode.org/js/events_properties.html\n    var targ;\n    if (!e) {\n        e = window.event;\n    }\n    if (e.target) {\n        targ = e.target;\n    } else if (e.srcElement) {\n        targ = e.srcElement;\n    }\n    if (targ.nodeType === 3) {\n        // defeat Safari bug\n        targ = targ.parentNode;\n    }\n\n    // pageX,Y are the mouse positions relative to the document\n    var boundingRect = targ.getBoundingClientRect();\n    var x = e.pageX - (boundingRect.left + document.body.scrollLeft);\n    var y = e.pageY - (boundingRect.top + document.body.scrollTop);\n\n    return { x: x, y: y };\n};\n\n/*\n * return a copy of an object with only non-object keys\n * we need this to avoid circular references\n * https://stackoverflow.com/a/24161582/3208463\n */\nfunction simpleKeys(original) {\n    return Object.keys(original).reduce(function (obj, key) {\n        if (typeof original[key] !== 'object') {\n            obj[key] = original[key];\n        }\n        return obj;\n    }, {});\n}\n\nmpl.figure.prototype.mouse_event = function (event, name) {\n    var canvas_pos = mpl.findpos(event);\n\n    if (name === 'button_press') {\n        this.canvas.focus();\n        this.canvas_div.focus();\n    }\n\n    var x = canvas_pos.x * this.ratio;\n    var y = canvas_pos.y * this.ratio;\n\n    this.send_message(name, {\n        x: x,\n        y: y,\n        button: event.button,\n        step: event.step,\n        guiEvent: simpleKeys(event),\n    });\n\n    /* This prevents the web browser from automatically changing to\n     * the text insertion cursor when the button is pressed.  We want\n     * to control all of the cursor setting manually through the\n     * 'cursor' event from matplotlib */\n    event.preventDefault();\n    return false;\n};\n\nmpl.figure.prototype._key_event_extra = function (_event, _name) {\n    // Handle any extra behaviour associated with a key event\n};\n\nmpl.figure.prototype.key_event = function (event, name) {\n    // Prevent repeat events\n    if (name === 'key_press') {\n        if (event.key === this._key) {\n            return;\n        } else {\n            this._key = event.key;\n        }\n    }\n    if (name === 'key_release') {\n        this._key = null;\n    }\n\n    var value = '';\n    if (event.ctrlKey && event.key !== 'Control') {\n        value += 'ctrl+';\n    }\n    else if (event.altKey && event.key !== 'Alt') {\n        value += 'alt+';\n    }\n    else if (event.shiftKey && event.key !== 'Shift') {\n        value += 'shift+';\n    }\n\n    value += 'k' + event.key;\n\n    this._key_event_extra(event, name);\n\n    this.send_message(name, { key: value, guiEvent: simpleKeys(event) });\n    return false;\n};\n\nmpl.figure.prototype.toolbar_button_onclick = function (name) {\n    if (name === 'download') {\n        this.handle_save(this, null);\n    } else {\n        this.send_message('toolbar_button', { name: name });\n    }\n};\n\nmpl.figure.prototype.toolbar_button_onmouseover = function (tooltip) {\n    this.message.textContent = tooltip;\n};\n\n///////////////// REMAINING CONTENT GENERATED BY embed_js.py /////////////////\n// prettier-ignore\nvar _JSXTOOLS_RESIZE_OBSERVER=function(A){var t,i=new WeakMap,n=new WeakMap,a=new WeakMap,r=new WeakMap,o=new Set;function s(e){if(!(this instanceof s))throw new TypeError(\"Constructor requires 'new' operator\");i.set(this,e)}function h(){throw new TypeError(\"Function is not a constructor\")}function c(e,t,i,n){e=0 in arguments?Number(arguments[0]):0,t=1 in arguments?Number(arguments[1]):0,i=2 in arguments?Number(arguments[2]):0,n=3 in arguments?Number(arguments[3]):0,this.right=(this.x=this.left=e)+(this.width=i),this.bottom=(this.y=this.top=t)+(this.height=n),Object.freeze(this)}function d(){t=requestAnimationFrame(d);var s=new WeakMap,p=new Set;o.forEach((function(t){r.get(t).forEach((function(i){var r=t instanceof window.SVGElement,o=a.get(t),d=r?0:parseFloat(o.paddingTop),f=r?0:parseFloat(o.paddingRight),l=r?0:parseFloat(o.paddingBottom),u=r?0:parseFloat(o.paddingLeft),g=r?0:parseFloat(o.borderTopWidth),m=r?0:parseFloat(o.borderRightWidth),w=r?0:parseFloat(o.borderBottomWidth),b=u+f,F=d+l,v=(r?0:parseFloat(o.borderLeftWidth))+m,W=g+w,y=r?0:t.offsetHeight-W-t.clientHeight,E=r?0:t.offsetWidth-v-t.clientWidth,R=b+v,z=F+W,M=r?t.width:parseFloat(o.width)-R-E,O=r?t.height:parseFloat(o.height)-z-y;if(n.has(t)){var k=n.get(t);if(k[0]===M&&k[1]===O)return}n.set(t,[M,O]);var S=Object.create(h.prototype);S.target=t,S.contentRect=new c(u,d,M,O),s.has(i)||(s.set(i,[]),p.add(i)),s.get(i).push(S)}))})),p.forEach((function(e){i.get(e).call(e,s.get(e),e)}))}return s.prototype.observe=function(i){if(i instanceof window.Element){r.has(i)||(r.set(i,new Set),o.add(i),a.set(i,window.getComputedStyle(i)));var n=r.get(i);n.has(this)||n.add(this),cancelAnimationFrame(t),t=requestAnimationFrame(d)}},s.prototype.unobserve=function(i){if(i instanceof window.Element&&r.has(i)){var n=r.get(i);n.has(this)&&(n.delete(this),n.size||(r.delete(i),o.delete(i))),n.size||r.delete(i),o.size||cancelAnimationFrame(t)}},A.DOMRectReadOnly=c,A.ResizeObserver=s,A.ResizeObserverEntry=h,A}; // eslint-disable-line\nmpl.toolbar_items = [[\"Home\", \"Reset original view\", \"fa fa-home icon-home\", \"home\"], [\"Back\", \"Back to previous view\", \"fa fa-arrow-left icon-arrow-left\", \"back\"], [\"Forward\", \"Forward to next view\", \"fa fa-arrow-right icon-arrow-right\", \"forward\"], [\"\", \"\", \"\", \"\"], [\"Pan\", \"Left button pans, Right button zooms\\nx/y fixes axis, CTRL fixes aspect\", \"fa fa-arrows icon-move\", \"pan\"], [\"Zoom\", \"Zoom to rectangle\\nx/y fixes axis\", \"fa fa-square-o icon-check-empty\", \"zoom\"], [\"\", \"\", \"\", \"\"], [\"Download\", \"Download plot\", \"fa fa-floppy-o icon-save\", \"download\"]];\n\nmpl.extensions = [\"eps\", \"jpeg\", \"pgf\", \"pdf\", \"png\", \"ps\", \"raw\", \"svg\", \"tif\"];\n\nmpl.default_extension = \"png\";/* global mpl */\n\nvar comm_websocket_adapter = function (comm) {\n    // Create a \"websocket\"-like object which calls the given IPython comm\n    // object with the appropriate methods. Currently this is a non binary\n    // socket, so there is still some room for performance tuning.\n    var ws = {};\n\n    ws.binaryType = comm.kernel.ws.binaryType;\n    ws.readyState = comm.kernel.ws.readyState;\n    function updateReadyState(_event) {\n        if (comm.kernel.ws) {\n            ws.readyState = comm.kernel.ws.readyState;\n        } else {\n            ws.readyState = 3; // Closed state.\n        }\n    }\n    comm.kernel.ws.addEventListener('open', updateReadyState);\n    comm.kernel.ws.addEventListener('close', updateReadyState);\n    comm.kernel.ws.addEventListener('error', updateReadyState);\n\n    ws.close = function () {\n        comm.close();\n    };\n    ws.send = function (m) {\n        //console.log('sending', m);\n        comm.send(m);\n    };\n    // Register the callback with on_msg.\n    comm.on_msg(function (msg) {\n        //console.log('receiving', msg['content']['data'], msg);\n        var data = msg['content']['data'];\n        if (data['blob'] !== undefined) {\n            data = {\n                data: new Blob(msg['buffers'], { type: data['blob'] }),\n            };\n        }\n        // Pass the mpl event to the overridden (by mpl) onmessage function.\n        ws.onmessage(data);\n    });\n    return ws;\n};\n\nmpl.mpl_figure_comm = function (comm, msg) {\n    // This is the function which gets called when the mpl process\n    // starts-up an IPython Comm through the \"matplotlib\" channel.\n\n    var id = msg.content.data.id;\n    // Get hold of the div created by the display call when the Comm\n    // socket was opened in Python.\n    var element = document.getElementById(id);\n    var ws_proxy = comm_websocket_adapter(comm);\n\n    function ondownload(figure, _format) {\n        window.open(figure.canvas.toDataURL());\n    }\n\n    var fig = new mpl.figure(id, ws_proxy, ondownload, element);\n\n    // Call onopen now - mpl needs it, as it is assuming we've passed it a real\n    // web socket which is closed, not our websocket->open comm proxy.\n    ws_proxy.onopen();\n\n    fig.parent_element = element;\n    fig.cell_info = mpl.find_output_cell(\"<div id='\" + id + \"'></div>\");\n    if (!fig.cell_info) {\n        console.error('Failed to find cell for figure', id, fig);\n        return;\n    }\n    fig.cell_info[0].output_area.element.on(\n        'cleared',\n        { fig: fig },\n        fig._remove_fig_handler\n    );\n};\n\nmpl.figure.prototype.handle_close = function (fig, msg) {\n    var width = fig.canvas.width / fig.ratio;\n    fig.cell_info[0].output_area.element.off(\n        'cleared',\n        fig._remove_fig_handler\n    );\n    fig.resizeObserverInstance.unobserve(fig.canvas_div);\n\n    // Update the output cell to use the data from the current canvas.\n    fig.push_to_output();\n    var dataURL = fig.canvas.toDataURL();\n    // Re-enable the keyboard manager in IPython - without this line, in FF,\n    // the notebook keyboard shortcuts fail.\n    IPython.keyboard_manager.enable();\n    fig.parent_element.innerHTML =\n        '<img src=\"' + dataURL + '\" width=\"' + width + '\">';\n    fig.close_ws(fig, msg);\n};\n\nmpl.figure.prototype.close_ws = function (fig, msg) {\n    fig.send_message('closing', msg);\n    // fig.ws.close()\n};\n\nmpl.figure.prototype.push_to_output = function (_remove_interactive) {\n    // Turn the data on the canvas into data in the output cell.\n    var width = this.canvas.width / this.ratio;\n    var dataURL = this.canvas.toDataURL();\n    this.cell_info[1]['text/html'] =\n        '<img src=\"' + dataURL + '\" width=\"' + width + '\">';\n};\n\nmpl.figure.prototype.updated_canvas_event = function () {\n    // Tell IPython that the notebook contents must change.\n    IPython.notebook.set_dirty(true);\n    this.send_message('ack', {});\n    var fig = this;\n    // Wait a second, then push the new image to the DOM so\n    // that it is saved nicely (might be nice to debounce this).\n    setTimeout(function () {\n        fig.push_to_output();\n    }, 1000);\n};\n\nmpl.figure.prototype._init_toolbar = function () {\n    var fig = this;\n\n    var toolbar = document.createElement('div');\n    toolbar.classList = 'btn-toolbar';\n    this.root.appendChild(toolbar);\n\n    function on_click_closure(name) {\n        return function (_event) {\n            return fig.toolbar_button_onclick(name);\n        };\n    }\n\n    function on_mouseover_closure(tooltip) {\n        return function (event) {\n            if (!event.currentTarget.disabled) {\n                return fig.toolbar_button_onmouseover(tooltip);\n            }\n        };\n    }\n\n    fig.buttons = {};\n    var buttonGroup = document.createElement('div');\n    buttonGroup.classList = 'btn-group';\n    var button;\n    for (var toolbar_ind in mpl.toolbar_items) {\n        var name = mpl.toolbar_items[toolbar_ind][0];\n        var tooltip = mpl.toolbar_items[toolbar_ind][1];\n        var image = mpl.toolbar_items[toolbar_ind][2];\n        var method_name = mpl.toolbar_items[toolbar_ind][3];\n\n        if (!name) {\n            /* Instead of a spacer, we start a new button group. */\n            if (buttonGroup.hasChildNodes()) {\n                toolbar.appendChild(buttonGroup);\n            }\n            buttonGroup = document.createElement('div');\n            buttonGroup.classList = 'btn-group';\n            continue;\n        }\n\n        button = fig.buttons[name] = document.createElement('button');\n        button.classList = 'btn btn-default';\n        button.href = '#';\n        button.title = name;\n        button.innerHTML = '<i class=\"fa ' + image + ' fa-lg\"></i>';\n        button.addEventListener('click', on_click_closure(method_name));\n        button.addEventListener('mouseover', on_mouseover_closure(tooltip));\n        buttonGroup.appendChild(button);\n    }\n\n    if (buttonGroup.hasChildNodes()) {\n        toolbar.appendChild(buttonGroup);\n    }\n\n    // Add the status bar.\n    var status_bar = document.createElement('span');\n    status_bar.classList = 'mpl-message pull-right';\n    toolbar.appendChild(status_bar);\n    this.message = status_bar;\n\n    // Add the close button to the window.\n    var buttongrp = document.createElement('div');\n    buttongrp.classList = 'btn-group inline pull-right';\n    button = document.createElement('button');\n    button.classList = 'btn btn-mini btn-primary';\n    button.href = '#';\n    button.title = 'Stop Interaction';\n    button.innerHTML = '<i class=\"fa fa-power-off icon-remove icon-large\"></i>';\n    button.addEventListener('click', function (_evt) {\n        fig.handle_close(fig, {});\n    });\n    button.addEventListener(\n        'mouseover',\n        on_mouseover_closure('Stop Interaction')\n    );\n    buttongrp.appendChild(button);\n    var titlebar = this.root.querySelector('.ui-dialog-titlebar');\n    titlebar.insertBefore(buttongrp, titlebar.firstChild);\n};\n\nmpl.figure.prototype._remove_fig_handler = function (event) {\n    var fig = event.data.fig;\n    if (event.target !== this) {\n        // Ignore bubbled events from children.\n        return;\n    }\n    fig.close_ws(fig, {});\n};\n\nmpl.figure.prototype._root_extra_style = function (el) {\n    el.style.boxSizing = 'content-box'; // override notebook setting of border-box.\n};\n\nmpl.figure.prototype._canvas_extra_style = function (el) {\n    // this is important to make the div 'focusable\n    el.setAttribute('tabindex', 0);\n    // reach out to IPython and tell the keyboard manager to turn it's self\n    // off when our div gets focus\n\n    // location in version 3\n    if (IPython.notebook.keyboard_manager) {\n        IPython.notebook.keyboard_manager.register_events(el);\n    } else {\n        // location in version 2\n        IPython.keyboard_manager.register_events(el);\n    }\n};\n\nmpl.figure.prototype._key_event_extra = function (event, _name) {\n    // Check for shift+enter\n    if (event.shiftKey && event.which === 13) {\n        this.canvas_div.blur();\n        // select the cell after this one\n        var index = IPython.notebook.find_cell_index(this.cell_info[0]);\n        IPython.notebook.select(index + 1);\n    }\n};\n\nmpl.figure.prototype.handle_save = function (fig, _msg) {\n    fig.ondownload(fig, null);\n};\n\nmpl.find_output_cell = function (html_output) {\n    // Return the cell and output element which can be found *uniquely* in the notebook.\n    // Note - this is a bit hacky, but it is done because the \"notebook_saving.Notebook\"\n    // IPython event is triggered only after the cells have been serialised, which for\n    // our purposes (turning an active figure into a static one), is too late.\n    var cells = IPython.notebook.get_cells();\n    var ncells = cells.length;\n    for (var i = 0; i < ncells; i++) {\n        var cell = cells[i];\n        if (cell.cell_type === 'code') {\n            for (var j = 0; j < cell.output_area.outputs.length; j++) {\n                var data = cell.output_area.outputs[j];\n                if (data.data) {\n                    // IPython >= 3 moved mimebundle to data attribute of output\n                    data = data.data;\n                }\n                if (data['text/html'] === html_output) {\n                    return [cell, data, j];\n                }\n            }\n        }\n    }\n};\n\n// Register the function which deals with the matplotlib target/channel.\n// The kernel may be null if the page has been refreshed.\nif (IPython.notebook.kernel !== null) {\n    IPython.notebook.kernel.comm_manager.register_target(\n        'matplotlib',\n        mpl.mpl_figure_comm\n    );\n}\n",
      "text/plain": [
       "<IPython.core.display.Javascript object>"
      ]
     },
     "metadata": {},
     "output_type": "display_data"
    },
    {
     "data": {
      "text/html": [
       "<img src=\"data:image/png;base64,iVBORw0KGgoAAAANSUhEUgAAAyAAAAJYCAYAAACadoJwAAAAAXNSR0IArs4c6QAAIABJREFUeF7tvQ20XVV1vr9UvmNCoBGk8hEIIIiABIpA4JdYoRGKgIhWIdWCWBBFkCgVdFTiqIIgKqB8FaEi2IqIIlRRCiZiQNEoCBIFIgGEIMQPEkIsQfyPdfq/Mdzcm7vXWnOfrLnf54zB8IM155n7ed+1zpp3nX32C/785z//OfCCAAQgAAEIQAACEIAABCDQBwIvoAHpA2XeAgIQgAAEIAABCEAAAhDoEaABwQgQgAAEIAABCEAAAhCAQN8I0ID0DTVvBAEIQAACEIAABCAAAQjQgOABCEAAAhCAAAQgAAEIQKBvBGhA+oaaN4IABCAAAQhAAAIQgAAEaEDwAAQgAAEIQAACEIAABCDQNwI0IH1DzRtBAAIQgAAEIAABCEAAAjQgeAACEIAABCAAAQhAAAIQ6BsBGpC+oeaNIAABCEAAAhCAAAQgAAEaEDwAAQhAAAIQgAAEIAABCPSNAA1I31DzRhCAAAQgAAEIQAACEIAADQgegAAEIAABCEAAAhCAAAT6RoAGpG+oeSMIQAACEIAABCAAAQhAgAYED0AAAhCAAAQgAAEIQAACfSNAA9I31LwRBCAAAQhAAAIQgAAEIEADggcgAAEIQAACEIAABCAAgb4RoAHpG2reCAIQgAAEIAABCEAAAhCgAcEDEIAABCAAAQhAAAIQgEDfCNCA9A01bwQBCEAAAhCAAAQgAAEI0IDgAQhAAAIQgAAEIAABCECgbwRoQPqGmjeCAAQgAAEIQAACEIAABGhA8AAEIAABCEAAAhCAAAQg0DcCNCB9Q80bQQACEIAABCAAAQhAAAI0IHgAAhCAAAQgAAEIQAACEOgbARqQvqHmjSAAAQhAAAIQgAAEIAABGhA8AAEIQAACEIAABCAAAQj0jQANSN9Q80YQgAAEIAABCEAAAhCAAA0IHoAABCAAAQhAAAIQgAAE+kaABqRvqHkjCEAAAhCAAAQgAAEIQIAGBA9AAAIQgAAEIAABCEAAAn0jQAPSN9S8EQQgAAEIQAACEIAABCBAA4IHIAABCEAAAhCAAAQgAIG+EaAB6Rtq3ggCEIAABCAAAQhAAAIQoAHBAxCAAAQgAAEIQAACEIBA3wjQgPQNNW8EAQhAAAIQgAAEIAABCNCA4AEIQAACEIAABCAAAQhAoG8EaED6hpo3ggAEIAABCEAAAhCAAARoQPAABCAAAQhAAAIQgAAEINA3AjQgfUPNG0EAAhCAAAQgAAEIQAACNCB4AAIQgAAEIAABCEAAAhDoGwEakL6h5o0gAAEIQAACEIAABCAAARoQPAABCEAAAhCAAAQgAAEI9I0ADUjfUPNGEIAABCAAAQhAAAIQgAANCB6AAAQgAAEIQAACEIAABPpGgAakb6h5IwhAAAIQgAAEIAABCECABgQPQAAC8gRe8IIXPI9B/N9jxowJO+64Y3j7298e3vGOd4TBY2qHNn/+/LDllluGyZMnh5kzZ7ZW7pQpU8KsWbPCZZddFv7pn/5pyPeJ7/+a17wmbLHFFiHWVfr605/+FGbMmBGuvPLK8PDDD4dly5b1dPqP//iPrNRR29TaBq77gQceCOPHj1/+vjm5soomCAIQgIBjAjQgjsWjdAhAwIbAQHMRN7HxFTe48+bNCz/4wQ/Cn//85/CWt7wl/Od//qfNmw2RpY1moY2cQwFYHQ3Ipz71qTB9+vTw13/912GfffYJ66yzTth7773D0UcfnaVRTtNAA5KFmiAIQAACPQI0IBgBAhCQJzDQgMRmY8XXjTfeGA444IDw7LPPhuuuuy4ceOCBrbBqo1mIpwKxiVpvvfXC5ptv3krdMenqaED+3//7f+GWW27pXd9WW21VfG2WDcgvfvGLsOaaa4YJEyYU10UCCEAAAl0lQAPSVWW5LghAoDGB4RqQmOCoo47qfb0ofg3rkksuaZwzZWAbDUjK+5eMXR0NSGw64lefBjeMuddh2YDk1kAcBCAAASUCNCBKanOtEIDAkARW1YCcd9554b3vfW/4u7/7u/Dtb3+7Fz+wYb333nvDGWecEb70pS/1NsT7779/+PrXv94bE+9N+Ld/+7dwww03hMceeyysv/76va8JnXLKKeFv/uZvltdx2mmn9e5nGOo1+L6GJ554InziE5/oncY8+OCDYd111w177LFHL2c8FVjxNVxTE++TOPLII8NHPvKRXnP1wQ9+MMSTnqeeeirssMMOvf//9a9/fWOnlDQgqbXEe0y+8IUvDFnbivdiNGU/kGhVDcjFF18cogfuu+++8Fd/9Vfh0EMP7el68MEH9+59aXIPyMA9MFHP+PWxD33oQz2f/O53vwvbbLNNOOmkk3paDPW66qqrwllnnRXuvvvu3n1J8UQueu5f/uVfeiy++93v9k6heEEAAhDwRIAGxJNa1AoBCLRCYFUNyMc//vHehjFuyr/xjW8sb0A222yz8MpXvjJ873vf693oPWrUqN4G9YILLgh33XVX+Nu//duwcOHCsN1224VXvepV4aGHHgq33nprWGONNXoNy5ve9KZerrgRveKKK8JXv/rVsPHGG4fXve51y69xxfsa4ld79t133/DII4/0vt6z0047hd/+9re9+1TiV8S++MUvhsMPP3x57EgNSNwMf+tb3+rdPzFx4sTwm9/8Jtx2223hhS98Ye//jw1Xk5dFA9K0lngC9f3vfz9cffXVYcmSJb0bzwden/zkJ8O4ceOS2I/UgLz//e8PZ599dlh77bV7esavs9188829m87j/xfZpzQgsWmZO3duePLJJ8Puu+/ea/qif+I9R//+7/++0j0sn/nMZ8L73ve+8KIXvajXZMTri9cfv+IV9Y9+pAFp4lLGQAACtRGgAalNEeqBAAT6TmC4BiR+xWfSpEm9jXlsQuJfvuNrYPzWW2/d+4Wpl73sZctrjjE777xzbyMcTyY+9rGPLR8fN87/8A//0GtW4l/UY8MRXyN9BStuUGMTE/8Kfs4554Tjjz9+ec6f/vSnYb/99gt//OMfw69+9auw0UYbrTLnwKlDHBTzxL/Ix6YovmLuE088sXdjd9wYN3lZNCCptcQGIJ4ADf4KVg77AT0H/wpWbBaj9htuuGGPRTwdiq/Y9MVm5Gc/+1nvf6c0IHH8G9/4xt7JRfRAfF177bXhkEMO6d2nE69p4BW13H777XsN4Xe+852eJvEVdT7ssMPCf//3f/f+Nw1IE5cyBgIQqI0ADUhtilAPBCDQdwKDG5C44Y8bwHj6ETfs8a/dP//5z5ffWDww/itf+UpvM7jiK24I4wY1/gRubDLiX69XfMUN6DXXXBNOP/303tef4mukBiSekrzhDW8Ib33rW3unJ4NfA41D/Gt9/DrPqnIONCDxPoqBG6YH8sWTlNjAxL/Mx3/WWmutEbWwaEBSaxmuAclhHy9wqK9gve1tb+udKsUG8tRTT30eh9gQTJ06tff/pTQg8StUcXxsalZ8xdOM2LCumOvDH/5w772POeaYcOGFFz5vfLz5fttttw3PPfccDciIDmUABCBQIwEakBpVoSYIQKCvBFb1jI/Ro0f3/mIdG4CBVxwf/1m6dGmvOVnx9dGPfrR3H0VsLmKTMfg10EzE7/IP/BV7pAbk3e9+dzj//PPDl7/85fDmN795pZxz5swJu+222/N+Lnikr2DFew4+//nPr5Qr5on5Hn300bDJJpuMqINFA5Jay3ANSA774RqQgRvdYxMZT7oGv+LX7eI9HCkNSGxMb7rpppVyxSY2fgUvnrrsueeevX8fx8aG6n/+53/Ca1/72mF14gRkRIsyAAIQqJAADUiFolASBCDQXwKDnwMSv/Yy8CDCeNPxBhts8LyC4vj49al4c/ng17HHHhsuuuii3l+t41+vB7/uuOOOsMsuu/S+UhW/PhVfIzUgf//3fx+++c1vjggl3iMSbyhfVc6BE5B//dd/HfLm9+GebzHcm8cHDMavoa3qQYQDJxOxcYgb9oFXbi3DNSA57IdrQOK9Mc8888yQTWaMiRpGLVMakHiqMtRN9AM316/YTMR7h375y1/2/omnHYNf0Zdf+9rXOAEZcVYwAAIQqJEADUiNqlATBCDQVwKrugl9qEJW9atJA5vg2IT88z//87ANSNzA/uQnP2nUgMQb0+MvcMVf2Rq4x2OouuKmdaSvda34y1PxF7gGv1IbkHiSE29a/+xnPxviSc1Qr3jSE5+hEu+jiPexDG5A4olRSi0jNSAp7PvZgAz3tPZVNSDxl9biL2UNfsUTuXiaxglIX5cK3gwCEDAiQANiBJI0EICAXwKWDchIXwMauOk45StY8Qnf8etSMfaggw5qBHqkr2ClbvqHe9N4yhN/qjbeexLvQRnqNfBTxvG+ifizxG01IDnsh2tA4j08kaHlV7BSGpCBkyW+gtXI7gyCAAScEaABcSYY5UIAAvYELBuQkW6Ejj+/G38Na8Wb0OP9FvGXtOKvLsWfWR38+q//+q/eDejx+R2XXnppIwD9akCuvPLKMG3atPDyl7883HPPPb1fbRr8ir/SFTfSg2/ozj2Nyb0JfSj2wzUg//iP/9j7eeT4QwTx18xWfMWvuQ38THHKV7BSGpD4q2vxveOJWvxp5xVf8QcS4qkIN6E3mgoMggAEKiRAA1KhKJQEAQj0l4BlA7LiT8HGX0+KP907kD9+ZSb+ClZ8nkT8y/pLX/rS3oXGew1e/OIX954j8utf/3qlX86Kv06144479u4HiI1LPG2Iz4IYeMX466+/vrcpjePiq18NSPxZ2HiTdnw+SXw4XmwyVvzlr3jzfPxqVryZP36daOCaY43WDUgO++EakNgIxp++jc/eiD/DG38SN77ijefxpvB4/0d8tdWA3H///eEVr3hFj2W8cX2vvfbqvV/kHX+IID6MMr74ClZ/1wreDQIQsCFAA2LDkSwQgIBjApYNSMQQf1I1foUmPjMiblwHHkQ4e/bslR5EOIAtfrUqbirjfRLxwYDxJ3DjiUg89Yiv+JO58StM8YGG8dep4k+3xhvl41O/47/7wx/+0LspOT5Top8NSHyv+OtN8Ub5WEN8QOOrX/3q3sY5btJj0xR/KSye4gzUNnDN1g1ILvvh7umJDwGMDwOM9ccb/OOT5+ODCOMzO+JN6qkPIkw5AYnXEh+u+IEPfKDHMvopNqjRQ/GUKT5rJvol/u+B5sTxFKR0CEBAjAANiJjgXC4EILAyAesGJL5DbBTi6Ue85yH+Wtb6668f4pPN49d54lOwB78ef/zxEJ+8Hb/e88QTT/Sejj14w/r73/8+nHvuub1GI/6FPP7FPzYjsWmJNyXHn3ONJyn9bkDi+8VGKN4DEm+Wjw/Ui18Pil8rixvn6dOnLz9BWPG622hActgP14BEvvGG9niDfTyxig1AfJp5PIWKzdSsWbNaOwEZ4BQbt7POOqv3HJrYcMYfJPjEJz4R4i9qxa+1xeYzfv2NFwQgAAFPBGhAPKlFrRCAAAQgIE9gyZIlId4HE59D8+STT670lT15QACAAASqJ0ADUr1EFAgBCEAAAooE4s3m8dQlnp4NvOIT6t/1rnf1bpAf7gGOiqy4ZghAwBcBGhBfelEtBCAAAQiIEDjjjDN6z0fZddddw6abbhriV/DiwysXLlzYOwGJ96DEB2LyggAEIOCNAA2IN8WoFwIQgAAEJAj86Ec/6t1XExuNeI9QvCcl3gD/+te/vveLYy95yUskOHCREIBA9wjQgHRPU64IAhCAAAQgAAEIQAAC1RKgAalWGgqDAAQgAAEIQAACEIBA9wjQgHRPU64IAhCAAAQgAAEIQAAC1RKgAalWGgqDAAQgAAEIQAACEIBA9wjQgHRPU64IAhCAAAQgAAEIQAAC1RKgAalImvjTivEpwvHnFdddd92KKqMUCEAAAhCAAAQgAIFIID4EdP78+WHq1Klh3LhxQMkgQAOSAa2tkCuvvDJMmzatrfTkhQAEIAABCEAAAhAwIhAfCHrEEUcYZdNKQwNSkd6zZ88Oe++9d+8Jt9tvv31FlbVbyuLFi8OcOXN6D9saPXp0u29G9tVOAL1XuwR9LQC9+4p7tb8Zeq92CfpagKrec+fO7f3B+Pvf/36YNGlSX5l35c1oQCpS8ic/+UlvEx434xMnTqyosnZL+cMf/hBmzZoVJk+eHMaOHdvum5F9tRNA79UuQV8LQO++4l7tb4beq12Cvhagqrfqfs3SXDQgljQLc6kaWnUBK7SL23D0ditdVuHonYXNbRB6u5Uuq3BVvVX3a1kmGSaIBsSSZmEuVUOrLmCFdnEbjt5upcsqHL2zsLkNQm+30mUVrqq36n4tyyQ0IJbY2smlamjVBawdF9WfFb3r18iyQvS2pFl/LvSuXyPLClX1Vt2vWXqHExBLmoW5VA2tuoAV2sVtOHq7lS6rcPTOwuY2CL3dSpdVuKreqvu1LJNwAmKJrZ1cqoZWXcDacVH9WdG7fo0sK0RvS5r150Lv+jWyrFBVb9X9mqV3OAGxpFmYS9XQqgtYoV3chqO3W+myCkfvLGxug9DbrXRZhavqrbpfyzIJJyCW2NrJpWpo1QWsHRfVnxW969fIskL0tqRZfy70rl8jywpV9Vbdr1l6hxMQS5qFuVQNrbqAFdrFbTh6u5Uuq3D0zsLmNgi93UqXVbiq3qr7tSyTcAJiia2dXKqGVl3A2nFR/VnRu36NLCtEb0ua9edC7/o1sqxQVW/V/ZqldzgBsaRZmEvV0KoLWKFd3Iajt1vpsgpH7yxsboPQ2610WYWr6q26X8syCScgltjayaVqaNUFrB0X1Z8VvevXyLJC9LakWX8u9K5fI8sKVfVW3a9ZeocTEEuahblUDa26gBXaxW04eruVLqtw9M7C5jYIvd1Kl1W4qt6q+7Usk3ACYomtnVyqhlZdwNpxUf1Z0bt+jSwrRG9LmvXnQu/6NbKsUFVv1f2apXc4AbGkWZhL1dCqC1ihXdyGo7db6bIKR+8sbG6D0NutdFmFq+qtul/LMgknIJbY2smlamjVBawdF9WfFb3r18iyQvS2pFl/LvSuXyPLClX1Vt2vWXqHExBLmoW5VA2tuoAV2sVtOHq7lS6rcPTOwuY2CL3dSpdVuKreqvu1LJNwAmKJrZ1cqoZWXcDacVH9WdG7fo0sK0RvS5r150Lv+jWyrFBVb9X9mqV3OAGxpFmYS9XQqgtYoV3chqO3W+myCkfvLGxug9DbrXRZhavqrbpfyzIJJyCW2NrJpWpo1QWsHRfVnxW969fIskL0tqRZfy70rl8jywpV9Vbdr1l6hxMQS5qFuVQNrbqAFdrFbTh6u5Uuq3D0zsLmNgi93UqXVbiq3qr7tSyTcAJiia2dXKqGVl3A2nFR/VnRu36NLCtEb0ua9edC7/o1sqxQVW/V/ZqldzgBsaRZmEvV0KoLWKFd3Iajt1vpsgpH7yxsboPQ2610WYWr6q26X8syCScgltjayaVqaNUFrB0X1Z8VvevXyLJC9LakWX8u9K5fI8sKVfVW3a9ZeocTEEuahblUDa26gBXaxW04eruVLqtw9M7C5jYIvd1Kl1W4qt6q+7Usk3ACYomtnVyqhlZdwNpxUf1Z0bt+jSwrRG9LmvXnQu/6NbKsUFVv1f2apXc4AbGkWZhL1dCqC1ihXdyGo7db6bIKR+8sbG6D0NutdFmFq+qtul/LMgknIJbY2smlamjVBawdF9WfFb3r18iyQvS2pFl/LvSuXyPLClX1Vt2vWXqHExBLmoW5VA2tuoAV2sVtOHq7lS6rcPTOwuY2CL3dSpdVuKreqvu1LJNwAmKJrZ1cqoZWXcDacVH9WdG7fo0sK0RvS5r150Lv+jWyrFBVb9X9mqV3OAGxpFmYS9XQqgtYoV3chqO3W+myCkfvLGxug9DbrXRZhavqrbpfyzIJJyCW2NrJpWpo1QWsHRfVnxW969fIskL0tqRZfy70rl8jywpV9Vbdr1l6hxMQS5qFuVQNrbqAFdrFbTh6u5Uuq3D0zsLmNgi93UqXVbiq3qr7tSyTcAJiia2dXKqGVl3A2nFR/VnRu36NLCtEb0ua9edC7/o1sqxQVW/V/ZqldzgBsaRZmEvV0KoLWKFd3Iajt1vpsgpH7yxsboPQ2610WYWr6q26X8syCScgltjayaVqaNUFrB0X1Z8VvevXyLJC9LakWX8u9K5fI8sKVfVW3a9ZeocTEEuahblUDa26gBXaxW04eruVLqtw9M7C5jYIvd1Kl1W4qt6q+7Usk3ACYomtnVyqhlZdwNpxUf1Z0bt+jSwrRG9LmvXnQu/6NbKsUFVv1f2apXc4ATGkefPNN4fXvva1vYz33Xdf2HrrrZOyqxpadQFLMkdHBt/z6KJw7Zz54RfzHgzbTdgiHLLb+LD9JmM6cnXDX0a87m///LGw6I/Lwph11gyve+VLJa47EmF+d97ez7tA9EZvBQKq+zVLbWlAjGg+88wzYeeddw4PP/xwWLJkCQ1IAlc+sBJgOR06f+GScPLVPwu3z//dSlew+/gNw5mH7RTGjxvl9OqGL1v1ulckwvzunK1XeUHojd4KBGhAylWmASln2Mtw+umnh8985jPh8MMP7/0nJyDNwfKB1ZyVx5EPLFwSDj1/dvj908uGLX+D9dYMXztuUqeaENXrHiwy89vjrM2vGb3z2XmMVNWbBqTcrTQg5QzDgw8+GF7xileEz372s73/PmPGDBqQBK6qC1gCItdD33zhbUOefAy+qHgSctWxe7q+1hWLV71uGpDOWDjrQljPs7C5DVLVmwak3LI0IOUMw8EHHxwef/zxcOutt/aaDxqQNKiqC1gaJZ+j470PB5x7S+Piv3XCPp24N0L1uocSmvnd2P6dGIjenZCx8UWo6k0D0tgiww6kASlkeP311/cakNtvvz3suuuu4bTTTmvUgCxYsCDEf1Z8zZ07N0ybNi3MnDmzdz+Jymvx4sUhTuaJEyeG0aNHq1y2xHVecMtD4aLZDze+1nGj1gwvefFajcfXOvCJp54JC5cM/5WzwXUfu/dm4di9N6/1corqYn4X4XMXjN7uJCsqWFXvO++8M0yZMiXMmTOnt3fhlU6ABiSd2fKIpUuXhh122CHst99+4aKLLur9/00bkIFxQ7392WefHSZMmFBQGaEQqIPANQ+8MMx67IV1FFNxFZNf+lw4dMvnKq6Q0iAAAQhAYIDAvHnzwvTp02lACixBA1IA78Mf/nA4//zzw7333hvGjRuX1IBwAvIX8Kp/QSmwnptQTkCaScUJSDNOjKqfAOt5/RpZVqiqNycg5S6iAclk+Oijj4atttoqnHjiieHoo49enuXcc88N5513XrjpppvC+PHje2OavlS/U6j6HdKmvvA8TvVeCNXrHsqrzG/PMzi9dvROZ+Y5QlVv1f2apVdpQDJp3nHHHWGXXXZZZfSoUaPCU0891fgdVA2tuoA1Nobzgaq/BqV63YPtyvx2PoETy0fvRGDOh6vqrbpfs7QrDUgmzSeffDLceOONK0VfddVV4Stf+UrvFGTTTTcNhxxySON3UDW06gLW2BjOB8aH8b1B8DkgqtdNA+J8whaWz3peCNBZuKreqvs1S3vSgFjSTLgJfai3VTW06gJmbL2q06k+EVz1ulc0I/O76qlpXhx6myOtOqGq3qr7NUsz0oBY0qQByaKpuoBlwXIeNHfBonDtnPlh7v0Phu233iIcvOv4Tjz3YyRZ4nW//dLbw+OL/zdsNHrt8IWjdpe47siF+T2SO7r179G7W3qOdDWqetOAjOSMkf89DcjIjPo2QtXQqgtY34xV2Rup6n3gebeEux9ZFF75sjHh+uP3qUyV9spR1bs9onVnRu+69bGuTlVv1f2apX9oQCxpFuZSNbTqAlZoF7fhqnrTgEwOY8eOdetbCm9GQHV+N6PTvVGqeqvu1ywdTANiSbMwl6qhVRewQru4DVfVmwaEBsTtpE0oXHV+JyDq1FBVvVX3a5bmpQGxpFmYS9XQqgtYoV3chqvqTQNCA+J20iYUrjq/ExB1aqiq3qr7NUvz0oBY0izMpWpo1QWs0C5uw1X1pgGhAXE7aRMKV53fCYg6NVRVb9X9mqV5aUAsaRbmUjW06gJWaBe34ap604DQgLidtAmFq87vBESdGqqqt+p+zdK8NCCWNAtzqRpadQErtIvbcFW9aUBoQNxO2oTCVed3AqJODVXVW3W/ZmleGhBLmoW5VA2tuoAV2sVtuKreNCA0IG4nbULhqvM7AVGnhqrqrbpfszQvDYglzcJcqoZWXcAK7eI2XFVvGhAaELeTNqFw1fmdgKhTQ1X1Vt2vWZqXBsSSZmEuVUOrLmCFdnEbrqo3DQgNiNtJm1C46vxOQNSpoap6q+7XLM1LA2JJszCXqqFVF7BCu7gNV9WbBoQGxO2kTShcdX4nIOrUUFW9VfdrlualAbGkWZhL1dCqC1ihXdyGq+pNA0ID4nbSJhSuOr8TEHVqqKreqvs1S/PSgFjSLMylamjVBazQLm7DVfWmAaEBcTtpEwpXnd8JiDo1VFVv1f2apXlpQCxpFuZSNbTqAlZoF7fhqnrTgNCAuJ20CYWrzu8ERJ0aqqq36n7N0rw0IJY0C3OpGlp1ASu0i9twVb1pQGhA3E7ahMJV53cCok4NVdVbdb9maV4aEEuahblUDa26gBXaxW24qt40IDQgbidtQuGq8zsBUaeGquqtul+zNC8NiCXNwlyqhlZdwArt4jZcVW8aEBoQt5M2oXDV+Z2AqFNDVfVW3a9ZmpcGxJJmYS5VQ6suYIV2cRuuqjcNCA2I20mbULjq/E5A1Kmhqnqr7tcszUsDYkmzMJeqoVUXsEK7uA1X1ZsGhAbE7aRNKFx1ficg6tRQVb1V92uW5qUBsaRZmEvV0KoLWKFd3Iar6k0DQgPidtImFK46vxMQdWqoqt6q+zVL89KAWNIszKVqaNUFrNAubsNV9aYBoQFxO2kTClfjdlTCAAAgAElEQVSd3wmIOjVUVW/V/ZqleWlALGkW5lI1tOoCVmgXt+GqetOA0IC4nbQJhavO7wREnRqqqrfqfs3SvDQgljQLc6kaWnUBK7SL23BVvWlAaEDcTtqEwlXndwKiTg1V1Vt1v2ZpXhoQS5qFuVQNrbqAFdrFbbiq3jQgNCBuJ21C4arzOwFRp4aq6q26X7M0Lw2IJc3CXKqGVl3ACu3iNlxVbxoQGhC3kzahcNX5nYCoU0NV9Vbdr1malwbEkmZhLlVDqy5ghXZxG66qNw0IDYjbSZtQuOr8TkDUqaGqeqvu1yzNSwNiSbMwl6qhVRewQru4DVfVmwaEBsTtpE0oXHV+JyDq1FBVvVX3a5bmpQGxpFmYS9XQqgtYoV3chqvqTQNCA+J20iYUrjq/ExB1aqiq3qr7NUvz0oBY0izMpWpo1QWs0C5uw1X1pgGhAXE7aRMKV53fCYg6NVRVb9X9mqV5aUAsaRbmUjW06gJWaBe34ap604DQgLidtAmFq87vBESdGqqqt+p+zdK8NCCWNAtzqRpadQErtIvbcFW9aUBoQNxO2oTCVed3AqJODVXVW3W/ZmleGhBLmoW5VA2tuoAV2sVtuKreNCA0IG4nbULhqvM7AVGnhqrqrbpfszQvDYglzcJcqoZWXcAK7eI2XFVvGhAaELeTNqFw1fmdgKhTQ1X1Vt2vWZqXBsSSZmEuVUOrLmCFdnEbrqj3PY8uCm+/7IfhicXPhJeMXitcftSrw/abjHGrYUrhinqn8OnaWPTumqKrvh5VvVX3a5bupgGxpFmYS9XQqgtYoV3chivpPX/hknDy1T8Lt8//3Up67T5+w3DmYTuF8eNGudWySeFKejfh0fUx6N11hZ9/fap6q+7XLN1NA2JJszCXqqFVF7BCu7gNV9H7gYVLwqHnzw6/f3rZsFptsN6a4WvHTep0E6Kit9sJaVw4ehsDrTydqt6q+zVLO9KAWNIszKVqaNUFrNAubsNV9H7zhbcNefIxWLh4EnLVsXu61XOkwlX0HomDyr9HbxWl/+86VfVW3a9ZupsGxJJmYS5VQ6suYIV2cRuuoHe85+OAc29prNG3Ttins/eEKOjdWGiBgegtIPIKl6iqt+p+zdLdNCCWNAtzqRpadQErtIvbcAW9P33jveGcm+5rrNGJ+24TTtx328bjPQ1U0NuTHm3Xit5tE64rv6reqvs1S/fRgFjSLMylamjVBazQLm7DFfSecd3Pw2Wz5zfW6MhJ48NHXr9D4/GeBiro7UmPtmtF77YJ15VfVW/V/Zql+2hALGkW5lI1tOoCVmgXt+EKenMC8hd7KujtdjK2UDh6twC14pSqeqvu1yytSANiSbMwl6qhVRewQru4DVfQm3tAaEDcTtDCwhXmdyGiToWr6q26X7M0Lw2IJc3CXKqGVl3ACu3iNlxFb34F6/8sqqK32wlpXDh6GwOtPJ2q3qr7NUs70oBY0izMpWpo1QWs0C5uw1X0jg8hfAPPAaEBcTtT8wpXmd95dLoXpaq36n7N0sE0IJY0C3OpGlp1ASu0i9twJb15EjonIG4nambhSvM7E1GnwlT1Vt2vWZqXBsSSZmEuVUOrLmCFdnEbrqj33AWLwtsvvT08vvh/w0aj1w5fOGr3zj73Y7AxFfV2OzkNCkdvA4iOUqjqrbpfs7QmDYglzcJcqoZWXcAK7eI2XFXvA8+7Jdz9yKLwypeNCdcfv49b/VILV9U7lVNXxqN3V5Rsdh2qeqvu15q5otkoGpBmnPoyStXQqgtYX0xV4Zuo6k0DMjmMHTu2QkdSkiUB1fltydBTLlW9Vfdrlt6kAbGkWZhL1dCqC1ihXdyGq+pNA0ID4nbSJhSuOr8TEHVqqKreqvs1S/PSgFjSLMylamjVBazQLm7DVfWmAaEBcTtpEwpXnd8JiDo1VFVv1f2apXlpQCxpFuZSNbTqAlZoF7fhqnrTgNCAuJ20CYWrzu8ERJ0aqqq36n7N0rw0IJY0C3OpGlp1ASu0i9twVb1pQGhA3E7ahMJV53cCok4NVdVbdb9maV4aEEuahblUDa26gBXaxW24qt40IDQgbidtQuGq8zsBUaeGquqtul+zNC8NiCXNwlyqhlZdwArt4jZcVW8aEBoQt5M2oXDV+Z2AqFNDVfVW3a9ZmpcGxJJmYS5VQ6suYIV2cRuuqjcNCA2I20mbULjq/E5A1Kmhqnqr7tcszUsDYkmzMJeqoVUXsEK7uA1X1ZsGhAbE7aRNKFx1ficg6tRQVb1V92uW5qUBsaRZmEvV0KoLWKFd3Iar6k0DQgPidtImFK46vxMQdWqoqt6q+zVL89KAWNIszKVqaNUFrNAubsNV9aYBoQFxO2kTCled3wmIOjVUVW/V/ZqleWlALGkW5lI1tOoCVmgXt+GqetOA0IC4nbQJhavO7wREnRqqqrfqfs3SvDQgljQLc6kaWnUBK7SL23BVvWlAaEDcTtqEwlXndwKiTg1V1Vt1v2ZpXhoQS5qFuVQNrbqAFdrFbbiq3jQgNCBuJ21C4arzOwFRp4aq6q26X7M0Lw2IJc3CXKqGVl3ACu3iNlxVbxoQGhC3kzahcNX5nYCoU0NV9Vbdr1malwbEkmZhLlVDqy5ghXZxG66qNw0IDYjbSZtQuOr8TkDUqaGqeqvu1yzNSwNiSbMwl6qhVRewQru4DVfVmwaEBsTtpE0oXHV+JyDq1FBVvVX3a5bmpQGxpFmYS9XQqgtYoV3chqvqTQNCA+J20iYUrjq/ExB1aqiq3qr7NUvz0oBY0izMpWpo1QWs0C5uw1X1pgGhAXE7aRMKV53fCYg6NVRVb9X9mqV5aUAsaRbmUjW06gJWaBe34ap604DQgLidtAmFq87vBESdGqqqt+p+zdK8NCCWNAtzqRpadQErtIvbcFW9aUBoQNxO2oTCVed3AqJODVXVW3W/ZmleGhBLmoW5VA2tuoAV2sVtuKreNCA0IG4nbULhqvM7AVGnhqrqrbpfszQvDYglzcJcqoZWXcAK7eI2XFVvGhAaELeTNqFw1fmdgKhTQ1X1Vt2vWZqXBsSSZmEuVUOrLmCFdnEbrqo3DQgNiNtJm1C46vxOQNSpoap6q+7XLM1LA2JJszCXqqFVF7BCu7gNV9WbBoQGxO2kTShcdX4nIOrUUFW9VfdrlualAbGkWZhL1dCqC1ihXdyGq+pNA0ID4nbSJhSuOr8TEHVqqKreqvs1S/PSgFjSLMylamjVBazQLm7DVfWmAaEBcTtpEwpXnd8JiDo1VFVv1f2apXlpQCxpFuZSNbTqAlZoF7fhqnrTgNCAuJ20CYWrzu8ERJ0aqqq36n7N0rw0IJY0C3OpGlp1ASu0i9twVb1pQGhA3E7ahMJV53cCok4NVdVbdb9maV4aEEuahblUDa26gBXaxW24qt40IDQgbidtQuGq8zsBUaeGquqtul+zNC8NiCXNwlyqhlZdwArt4jZcVW8aEBoQt5M2oXDV+Z2AqFNDVfVW3a9ZmpcGxJJmYS5VQ6suYIV2cRuuqjcNCA2I20mbULjq/E5A1Kmhqnqr7tcszUsDYkmzMJeqoVUXsEK7uA1X1ZsGhAbE7aRNKFx1ficg6tRQVb1V92uW5qUByaT54x//OFxxxRXh5ptvDg888EAYNWpU2GGHHcIpp5wS9t1336ysqoZWXcCyTNKBIEW973l0UXj7ZT8MTyx+Jrxk9Frh8qNeHbbfZEwH1Bz5EhT1HplKd0egd3e1HerKVPVW3a9ZupsGJJPmYYcdFmbNmhXe+MY3hokTJ4annnoqXHbZZeHuu+8O559/fnjXu96VnFnV0KoLWLJBOhKgpPf8hUvCyVf/LNw+/3crqbf7+A3DmYftFMaPG9URZYe+DCW9Oy1kw4tD74agOjJMVW/V/ZqlbWlAMmnOnj077LbbbmHttddenmHp0qXhVa96VXjiiSfC448/HtZYY42k7KqGVl3AkszRocEqej+wcEk49PzZ4fdPLxtWvQ3WWzN87bhJnW5CVPTu0BQtuhT0LsLnLlhVb9X9mqVBaUAsaYYQpk+fHj71qU+Fhx56KGy22WZJ2VUNrbqAJZmjQ4NV9H7zhbcNefIxWMp4EnLVsXt2SOHnX4qK3p0VMPHC0DsRmPPhqnqr7tcs7UoDYkkzhPDWt741XH311SFOynhfSMpL1dCqC1iKN7o0VkHveM/HAefe0li2b52wT2fvCVHQu7HQAgPRW0DkFS5RVW/V/Zqlu2lADGnOnTu39xWsAw88MHz1q19dZeYFCxaE+M+Krxg/bdq0MHPmzLDzzjsbVlZ3qsWLF4c4meO9NKNHj667WKorJqCg9wW3PBQumv1wY1bH7r1ZOHbvzRuP9zRQQW9PerRdK3q3Tbiu/Kp633nnnWHKlClhzpw5vb0Lr3QCNCDpzIaMePLJJ8Oee+7ZayqiMTfffNWbidNOOy3MmDFjyFxnn312mDBhglFlpIEABPpN4JoHXhhmPfbCxm87+aXPhUO3fK7xeAZCAAIQgMDqIzBv3rzeV+5pQPI1oAHJZ7c8Mt58PnXq1PCjH/0o3HDDDWHy5MkjZuUE5C+IVP+CMqJJOjpAQW9OQJjfHZ2+I16WwvweEYLQAFW9OQEpNzkNSCHDZ555Jhx00EG954Fcc801va9f5b5Uv1Oo+h3SXJ94j1PQm3tA/uJSBb29z0nL+tHbkmb9uVT1Vt2vWTqSBqSA5rPPPhvi80Cuu+66cOWVV4a3vOUtBdlC7z6IXXfdVe5IT3UBKzKL42AVvfkVrP8zqYrejqekaenobYqz+mSqeqvu1ywNSQOSSfO5554Lhx9+ePjyl78cLr744vDOd74zM9NfwlQNrbqAFRvGaQIVveNDCN/Ac0BoQJzO09yyVeZ3Lp+uxanqrbpfs/QvDUgmzZNOOil8+tOf7t3vcfTRR6+UZb/99gsbb7xxUnZVQ6suYEnm6NBgJb15EjonIB2auo0uRWl+NwLS8UGqeqvu1yztTAOSSTP+/NqsWbOGjf7ud7/b+4m2lJeqoVUXsBRvdGmsot5zFywKb7/09vD44v8NG41eO3zhqN07+9yPwV5V1LtL8zX1WtA7lZjv8ap6q+7XLN1KA2JJszCXqqFVF7BCu7gNV9X7wPNuCXc/sii88mVjwvXH7+NWv9TCVfVO5dSV8ejdFSWbXYeq3qr7tWauaDaKBqQZp76MUjW06gLWF1NV+CaqetOATA5jx46t0JGUZElAdX5bMvSUS1Vv1f2apTdpQCxpFuZSNbTqAlZoF7fhqnrTgNCAuJ20CYWrzu8ERJ0aqqq36n7N0rw0IJY0C3OpGlp1ASu0i9twVb1pQGhA3E7ahMJV53cCok4NVdVbdb9maV4aEEuahblUDa26gBXaxW24qt40IDQgbidtQuGq8zsBUaeGquqtul+zNC8NiCXNwlyqhlZdwArt4jZcVW8aEBoQt5M2oXDV+Z2AqFNDVfVW3a9ZmpcGxJJmYS5VQ6suYIV2cRuuqjcNCA2I20mbULjq/E5A1Kmhqnqr7tcszUsDYkmzMJeqoVUXsEK7uA1X1ZsGhAbE7aRNKFx1ficg6tRQVb1V92uW5qUBsaRZmEvV0KoLWKFd3Iar6k0DQgPidtImFK46vxMQdWqoqt6q+zVL89KAWNIszKVqaNUFrNAubsNV9aYBoQFxO2kTCled3wmIOjVUVW/V/ZqleWlALGkW5lI1tOoCVmgXt+GqetOA0IC4nbQJhavO7wREnRqqqrfqfs3SvDQgljQLc6kaWnUBK7SL23BVvWlAaEDcTtqEwlXndwKiTg1V1Vt1v2ZpXhoQS5qFuVQNrbqAFdrFbbiq3jQgNCBuJ21C4arzOwFRp4aq6q26X7M0Lw2IJc3CXKqGVl3ACu3iNlxVbxoQGhC3kzahcNX5nYCoU0NV9Vbdr1malwbEkmZhLlVDqy5ghXZxG66qNw0IDYjbSZtQuOr8TkDUqaGqeqvu1yzNSwNiSbMwl6qhVRewQru4DVfVmwaEBsTtpE0oXHV+JyDq1FBVvVX3a5bmpQGxpFmYS9XQqgtYoV3chqvqTQNCA+J20iYUrjq/ExB1aqiq3qr7NUvz0oBY0izMpWpo1QWs0C5uw1X1pgGhAXE7aRMKV53fCYg6NVRVb9X9mqV5aUAsaRbmUjW06gJWaBe34ap604DQgLidtAmFq87vBESdGqqqt+p+zdK8NCCWNAtzqRpadQErtIvbcFW9aUBoQNxO2oTCVed3AqJODVXVW3W/ZmleGhBLmoW5VA2tuoAV2sVtuKreNCA0IG4nbULhqvM7AVGnhqrqrbpfszQvDYglzcJcqoZWXcAK7eI2XFVvGhAaELeTNqFw1fmdgKhTQ1X1Vt2vWZqXBsSSZmEuVUOrLmCFdnEbrqo3DQgNiNtJm1C46vxOQNSpoap6q+7XLM1LA2JJszCXqqFVF7BCu7gNV9WbBoQGxO2kTShcdX4nIOrUUFW9VfdrlualAbGkWZhL1dCqC1ihXdyGq+pNA0ID4nbSJhSuOr8TEHVqqKreqvs1S/PSgFjSLMylamjVBazQLm7DVfWmAaEBcTtpEwpXnd8JiDo1VFVv1f2apXlpQCxpFuZSNbTqAlZoF7fhqnrTgNCAuJ20CYWrzu8ERJ0aqqq36n7N0rw0IJY0C3OpGlp1ASu0i9twVb1pQGhA3E7ahMJV53cCok4NVdVbdb9maV4aEEuahblUDa26gBXaxW24qt40IDQgbidtQuGq8zsBUaeGquqtul+zNC8NiCXNwlyqhlZdwArt4jZcVW8aEBoQt5M2oXDV+Z2AqFNDVfVW3a9ZmpcGxJJmYS5VQ6suYIV2cRuuqjcNCA2I20mbULjq/E5A1Kmhqnqr7tcszUsDYkmzMJeqoVUXsEK7uA1X1ZsGhAbE7aRNKFx1ficg6tRQVb1V92uW5qUBsaRZmEvV0KoLWKFd3Iar6k0DQgPidtImFK46vxMQdWqoqt6q+zVL89KAWNIszKVqaNUFrNAubsMV9b7n0UXh7Zf9MDyx+JnwktFrhcuPenXYfpMxbjVsWni87mvnzA+/mPdg2G7CFuGQ3cbLXPe3f/5YWPTHZWHMOmuG173ypTLXrah30/nQxXGK63nUUXW/ZulhGhBLmoW5VA2tuoAV2sVtuJLe8xcuCSdf/bNw+/zfraTX7uM3DGcetlMYP26UWy2HK5zrRu8Bb3TZ552buBkXpLSer4hHdb+WYZFhQ2hALGkW5lI1tOoCVmgXt+Eqej+wcEk49PzZ4fdPLxtWqw3WWzN87bhJnWpCuG70Hmz4Lvrc7QJsXLjKej4Ym+p+zdI+NCCWNAtzqRpadQErtIvbcBW933zhbUOefAwWLv6F+Kpj93Sr5+DCue5VS4nenbE6FxJCUFnPaUDs7U4DYs80OyMNCDepZpvHUaDCB1a89+GAc29prMq3TtinE/cIcN3NJEfvZpwYVT8BhfV8KBVU92uWjqQBsaRZmEvV0KoLWKFd3IYr6P3pG+8N59x0X2ONNhq9dthozNqNx9c68DeL/ti70b7pi+tuSqrOcal6n7jvNuHEfbet82KoKouAwnpOA5JljRGDaEBGRNS/ATQgnID0z22r750UPrBmXPfzcNns+asPMu8MgQoJHDlpfPjI63eosDJKyiWgsJ7TgOS6Y9VxNCDtcM3KSgNCA5JlHGdBCh9YnIA0MyUnIM041TqKE5BalelfXQrrOQ1IO36iAWmHa1ZWGhAakCzjOAtS+MDiXohmpuReiGacah2l6vNa9VgddSms5zQg7TiLBqQdrllZaUBoQLKM4yxI5QOLX4NatTH5NShnE3eYclV93g31yq9CZT0fTEp1v1bumL9koAGxpFmYS9XQqgtYoV3chqvoHR/G9wbB54Bw3VrPAVHV2+0CbFy4ynpOA2JsnBACDYg90+yMNCCcgGSbx1Gg0gcWTwTnieADU7PLTwRX9bmjZbe1UpXW8xUhqu7XLI1EA2JJszCXqqFVF7BCu7gNV9R77oJF4ds/fyw8uXRZWH/dNcPUHV7aied+jGTCeN3Xzpkf5t7/YNh+6y3CwbuOl7luVb3/8ZIfhIVLloVxo9YMXzx6Dwm9R5oHXf73iut51FN1v2bpZRoQS5qFuVQNrbqAFdrFbTh6u5Uuq3D0zsLmNmj/T88Mc3+zJGy/8ajwrfdNcXsdFN6MgOr8Vt2vNXNFs1E0IM049WWUqqFVF7C+mKrCN0HvCkVpsST0bhFuhalpQCoUpcWSVOe36n7N0ko0IJY0C3OpGlp1ASu0i9tw9HYrXVbh6J2FzW0QDYhb6bIKV53fqvu1LJMME0QDYkmzMJeqoVUXsEK7uA1Hb7fSZRWO3lnY3AbRgLiVLqtw1fmtul/LMgkNiCW2dnKpGlp1AWvHRfVnRe/6NbKsEL0tadafiwakfo0sK1Sd36r7NUvvcAJiSbMwl6qhVRewQru4DUdvt9JlFY7eWdjcBtGAuJUuq3DV+a26X8syCScgltjayaVqaNUFrB0X1Z8VvevXyLJC9LakWX8uGpD6NbKsUHV+q+7XLL3DCYglzcJcqoZWXcAK7eI2HL3dSpdVOHpnYXMbRAPiVrqswlXnt+p+LcsknIBYYmsnl6qhVRewdlxUf1b0rl8jywrR25Jm/bloQOrXyLJC1fmtul+z9A4nIJY0C3OpGlp1ASu0i9tw9HYrXVbh6J2FzW0QDYhb6bIKV53fqvu1LJNwAmKJrZ1cqoZWXcDacVH9WdG7fo0sK0RvS5r156IBqV8jywpV57fqfs3SO5yAWNIszKVqaNUFrNAubsPR2610WYWjdxY2t0E0IG6lyypcdX6r7teyTMIJiCW2dnKpGlp1AWvHRfVnRe/6NbKsEL0tadafiwakfo0sK1Sd36r7NUvvcAJiSbMwl6qhVRewQru4DUdvt9JlFY7eWdjcBtGAuJUuq3DV+a26X8syCScgltjayaVqaNUFrB0X1Z8VvevXyLJC9LakWX8uGpD6NbKsUHV+q+7XLL3DCYglzcJcqoZWXcAK7eI2HL3dSpdVOHpnYXMbRAPiVrqswlXnt+p+LcsknIBYYmsnl6qhVRewdlxUf1b0rl8jywrR25Jm/bloQOrXyLJC1fmtul+z9A4nIJY0C3OpGlp1ASu0i9tw9HYrXVbh6J2FzW0QDYhb6bIKV53fqvu1LJNwAmKJrZ1cqoZWXcDacVH9WdG7fo0sK0RvS5r156IBqV8jywpV57fqfs3SO5yAWNIszKVqaNUFrNAubsPR2610WYWjdxY2t0E0IG6lyypcdX6r7teyTMIJiCW2dnKpGlp1AWvHRfVnRe/6NbKsEL0tadafiwakfo0sK1Sd36r7NUvvcAJiSbMwl6qhVRewQru4DUdvt9JlFY7eWdjcBtGAuJUuq3DV+a26X8syCScgltjayaVqaNUFrB0X1Z8VvevXyLJC9LakWX8uGpD6NbKsUHV+q+7XLL3DCYglzcJcqoZWXcAK7eI2HL3dSpdVOHpnYXMbRAPiVrqswlXnt+p+LcsknIBYYmsnl6qhVRewdlxUf1b0rl8jywrR25Jm/bloQOrXyLJC1fmtul+z9A4nIJY0C3OpGlp1ASu0i9tw9HYrXVbh6J2FzW0QDYhb6bIKV53fqvu1LJNwAmKJrZ1cqoZWXcDacVH9WdG7fo0sK0RvS5r156IBqV8jywpV57fqfs3SO5yAWNIszKVqaNUFrNAubsPR2610WYWjdxY2t0E0IG6lyypcdX6r7teyTMIJiCW2dnKpGlp1AWvHRfVnRe/6NbKsEL0tadafiwakfo0sK1Sd36r7NUvvcAJiSbMwl6qhVRewQru4DUdvt9JlFY7eWdjcBtGAuJUuq3DV+a26X8syCScgltjayaVqaNUFrB0X1Z8VvevXyLJC9LakWX8uGpD6NbKsUHV+q+7XLL3DCYglzcJcqoZWXcAK7eI2HL3dSpdVOHpnYXMbRAPiVrqswlXnt+p+LcsknIBYYmsnl6qhVRewdlxUf1b0rl8jywrR25Jm/bloQOrXyLJC1fmtul+z9A4nIAU0//SnP4WzzjorXHLJJeHhhx8Om222WTj66KPDBz7wgfCiF70oObOqoVUXsGSDdCDgnkcXhWvnzA+/mPdg2G7CFuGQ3caH7TcZ04ErW/UlxOv+9s8fC4v+uCyMWWfN8LpXvlTiuiMVxfmtqne87rd9/gdh4ZJlYdyoNcMXj95DxuedX8SGuUDF+R1RqO7XLH1OA1JA87jjjgsXXHBBOPLII8Nee+0Vbr311nDZZZeF+P9/7nOfS86samjVBSzZII4D5i9cEk6++mfh9vm/W+kqdh+/YTjzsJ3C+HGjHF/h0KWrXveKNJTmt6reqtfduQUr44KU5veKeFT3axkWGTaEBiST5l133RV23nnncPzxx4dzzjlneZYTTjghnHfeeeHOO+8MO+64Y1J2VUOrLmBJ5nA8+IGFS8Kh588Ov3962bBXscF6a4avHTepU02I6nUPFlllfqvqrXrdjpdk09JV5vdgaKr7NUvz0IBk0vzQhz4UPv7xj4df/epXYcstt1ye5YEHHghbbbVVOPXUU8PHPvaxpOyqhlZdwJLM4Xjwmy+8bciTj8GXFE9Crjp2T8dX+vzSVa9btQFR1Vv1ujuzUBVeiOrnt+p+rdAuzwunAcmkOXXq1N4px2OPPbZSho033jjssssu4YYbbkjKrmpo1QUsyRxOB8fvhB9w7i2Nq//WCft04jvjqtc9lNAK81tVb9XrbrygCQxUmN9Dyai6X7O0NA1IJs349aq11lorzJkzZ6UMEydODMuWLQvxa1rDvRYsWBDiPyu+5s6dG6ZNmxZmzpzZ+3qXymvx4sW9G7oit9GjR6tctsR1XnDLQ+Gi2Q83vtZ44+pLXrxW4/G1DnziqWd6N+I2fR2792bh2L03bzrc1TiF+Y3Pm1myyz5vRqlpzOkAACAASURBVKB7oxTm91CqxT9AT5kypbcHjHsXXukEaEDSmfUiJkyYEOJJR7zxfPAr3pD++OOPh/vvv3/Y7KeddlqYMWPGkP/+7LPP7uXnBQHvBK554IVh1mMv9H4Zrdc/+aXPhUO3fK719+EN2iGAz5txxefNODGqfgLz5s0L06dPpwEpkIoGJBMeJyCZ4IYIU/0Lih3BejPxl+Fm2nT5L8MK8xuf4/NmBLo3SmF+D6UaJyDlXqYByWTIPSCZ4IYIU/0OqR3BejOpfkdc9bqHcqLC/FbVW/W6611x+1+Zwvweiir3gJR7jQYkk2H8lavTTz+dX8HK5LdimOoCZoDORQrVX8lRve7BplSZ36p6q163i8W3D0WqzO/BKGlAys1FA5LJMB6/xV+6Gu45IHfccUfYaaedkrKrGlp1AUsyh+PB8SFlbxB8Dojqdas2IKp6q1634yXZtHTVz2/V/ZqleWhACmgee+yx4aKLLuo9CX3SpElh9uzZvSehH3PMMeHCCy9MzqxqaNUFLNkgjgNUn5Sset2qJ5yqeqtet+Ml2ax01c9v1f2amXFCCDQgBTSfffbZcOaZZ4ZLLrkk/PrXvw6bbrppOProo8PJJ58c1lhjjeTMqoZWXcCSDdKBgLkLFoV/vOQHvZ+ojT+5+8Wj9+jEcz9GkiZe99svvT08vvh/w0aj1w5fOGp3ieuOXBTnt6re8bqvnTM/zL3/wbD91luEg3cdL+PzkdaArv57xfkdtVTdr1n6mAbEkmZhLlVDqy5ghXZxG77/p2eGub9ZErbfeFT41vumuL2O1MIPPO+WcPcji8IrXzYmXH/8Pqnhbserzm/0nhzGjh3r1rcU3oyA6vxW3a81c0WzUTQgzTj1ZZSqoVUXsL6YqsI3oQGhAanQluYl0YDQgJibqsKEqp/fqvs1SwvSgFjSLMylamjVBazQLm7DaUBoQNyaN6FwGhAakAS7uB2q+vmtul+zNCoNiCXNwlyqhlZdwArt4jacBoQGxK15EwqnAaEBSbCL26Gqn9+q+zVLo9KAWNIszKVqaNUFrNAubsNpQGhA3Jo3oXAaEBqQBLu4Har6+a26X7M0Kg2IJc3CXKqGVl3ACu3iNpwGhAbErXkTCqcBoQFJsIvboaqf36r7NUuj0oBY0izMpWpo1QWs0C5uw2lAaEDcmjehcBoQGpAEu7gdqvr5rbpfszQqDYglzcJcqoZWXcAK7eI2nAaEBsSteRMKpwGhAUmwi9uhqp/fqvs1S6PSgFjSLMylamjVBazQLm7DaUBoQNyaN6FwGhAakAS7uB2q+vmtul+zNCoNiCXNwlyqhlZdwArt4jacBoQGxK15EwqnAaEBSbCL26Gqn9+q+zVLo9KAWNIszKVqaNUFrNAubsNpQGhA3Jo3oXAaEBqQBLu4Har6+a26X7M0Kg2IJc3CXKqGVl3ACu3iNpwGhAbErXkTCqcBoQFJsIvboaqf36r7NUuj0oBY0izMpWpo1QWs0C5uw2lAaEDcmjehcBoQGpAEu7gdqvr5rbpfszQqDYglzcJcqoZWXcAK7eI2nAaEBsSteRMKpwGhAUmwi9uhqp/fqvs1S6PSgFjSLMylamjVBazQLm7DaUBoQNyaN6FwGhAakAS7uB2q+vmtul+zNCoNiCXNwlyqhlZdwArt4jacBoQGxK15EwqnAaEBSbCL26Gqn9+q+zVLo9KAWNIszKVqaNUFrNAubsNpQGhA3Jo3oXAaEBqQBLu4Har6+a26X7M0Kg2IJc3CXKqGVl3ACu3iNpwGhAbErXkTCqcBoQFJsIvboaqf36r7NUuj0oBY0izMpWpo1QWs0C5uw2lAaEDcmjehcBoQGpAEu7gdqvr5rbpfszQqDYglzcJcqoZWXcAK7eI2nAaEBsSteRMKpwGhAUmwi9uhqp/fqvs1S6PSgFjSLMylamjVBazQLm7DaUBoQNyaN6FwGhAakAS7uB2q+vmtul+zNCoNiCXNwlyqhlZdwArt4jacBoQGxK15EwqnAaEBSbCL26Gqn9+q+zVLo9KAWNIszKVqaNUFrNAubsNpQGhA3Jo3oXAaEBqQBLu4Har6+a26X7M0Kg2IJc3CXKqGVl3ACu3iNpwGhAbErXkTCqcBoQFJsIvboaqf36r7NUuj0oBY0izMpWpo1QWs0C5uw2lAaEDcmjehcBoQGpAEu7gdqvr5rbpfszQqDYglzcJcqoZWXcAK7eI2nAaEBsSteRMKpwGhAUmwi9uhqp/fqvs1S6PSgFjSLMylamjVBazQLm7DaUBoQNyaN6FwGhAakAS7uB2q+vmtul+zNCoNiCXNwlyqhlZdwArt4jacBoQGxK15EwqnAaEBSbCL26Gqn9+q+zVLo9KAWNIszKVqaNUFrNAubsNpQGhA3Jo3oXAaEBqQBLu4Har6+a26X7M0Kg2IJc3CXKqGVl3ACu3iNpwGhAbErXkTCqcBoQFJsIvboaqf36r7NUuj0oBY0izMpWpo1QWs0C5uw2lAaEDcmjehcBoQGpAEu7gdqvr5rbpfszQqDYglzcJcqoZWXcAK7eI2nAaEBsSteRMKpwGhAUmwi9uhqp/fqvs1S6PSgFjSLMylamjVBazQLm7DaUBoQNyaN6FwGhAakAS7uB2q+vmtul+zNCoNiCXNwlyqhlZdwArt4jL8nkcXhbd9/gdh4ZJlYdyoNcMXj94jbL/JGJfXklJ0vO63X/bD8MTiZ8JLRq8VLj/q1TLXfe2c+eEX8x4M203YIhyy23iZ61bUO84J1vOUlcH/WFW9Vfdrlo6lAbGkWZhL1dCqC1ihXVyFz1+4JJx89c/C7fN/t1Ldu4/fMJx52E5h/LhRrq6pSbFcN3oP+KTLPl9xLrCeN1kZujNGVW/V/Zqlc2lALGkW5lI1tOoCVmgXN+EPLFwSDj1/dvj908uGrXmD9dYMXztuUqeaEK4bvQcbvos+H3yNrOdulmaTQlX1Vt2vmZjm/09CA2JJszCXqqFVF7BCu7gJf/OFtw158jH4AuJfiK86dk831zVSoVz3qgmh90gO8vnvWc996pZbtareqvu1XJ8MFUcDYkmzMJeqoVUXsEK7uAiP9z4ccO4tjWv91gn7dOIeAa67meTo3YyTp1Gs557UKq9VVW/V/Vq5Y/6SgQbEkmZhLlVDqy5ghXZxEf7pG+8N59x0X+NaT9x3m3Divts2Hl/rwNTr3mj02mGjMWvXejmN6/rNoj/2brRv+lK97q74fCidWc+bur8b41T1Vt2vWbqWBsSSZmEuVUOrLmCFdnERPuO6n4fLZs9vXOuRk8aHj7x+h8bjax2Yet21Xgd1tUOgKz6nAWnHH56yqn5+q+7XLL1JA2JJszCXqqFVF7BCu7gITz0J6MpfhlOvW/UkQPW6u+JzGhAXy3CrRap+fqvu1yzNRANiSbMwl6qhVRewQru4COdeiGYycS9EM061jlL1OQ1IrY7sX12qn9+q+zVLZ9GAWNIszKVqaNUFrNAubsL5NahVS8WvQbmx8ioLVfX5YCis593wc9OrUNVbdb/W1BdNxtGANKHUpzGqhlZdwPpkq9X+NvFhfG8QfA4I1631HBBVvWlAVvsSu1oLUP38Vt2vWZqNBsSSZmEuVUOrLmCFdnEVzhPBeSL4gGG7/ERwVZ+vuBixnrtamouLVdVbdb9WbJgVEtCAWNIszKVqaNUFrNAuLsPnLlgUrp0zP8y9/8Gw/dZbhIN3Hd+J536MJEa87m///LHw5NJlYf111wxTd3ipzHWjt47ecR6wno+0GnTr36vqrbpfs3QvDYglzcJcqoZWXcAK7eI2HL3dSpdVOHpnYXMbhN5upcsqXFVv1f1alkmGCaIBsaRZmEvV0KoLWKFd3Iajt1vpsgpH7yxsboPQ2610WYWr6q26X8syCQ2IJbZ2cqkaWnUBa8dF9WdF7/o1sqwQvS1p1p8LvevXyLJCVb1V92uW3uEExJJmYS5VQ6suYIV2cRuO3m6lyyocvbOwuQ1Cb7fSZRWuqrfqfi3LJJyAWGJrJ5eqoVUXsHZcVH9W9K5fI8sK0duSZv250Lt+jSwrVNVbdb9m6R1OQCxpFuZSNbTqAlZoF7fh6O1WuqzC0TsLm9sg9HYrXVbhqnqr7teyTMIJiCW2dnKpGlp1AWvHRfVnRe/6NbKsEL0tadafC73r18iyQlW9Vfdrlt7hBMSSZmEuVUOrLmCFdnEbjt5upcsqHL2zsLkNQm+30mUVrqq36n4tyyScgFhiayeXqqFVF7B2XFR/VvSuXyPLCtHbkmb9udC7fo0sK1TVW3W/ZukdTkAsaRbmUjW06gJWaBe34ejtVrqswtE7C5vbIPR2K11W4ap6q+7XskzCCYgltnZyqRpadQFrx0X1Z0Xv+jWyrBC9LWnWnwu969fIskJVvVX3a5be4QTEkmZhLlVDqy5ghXZxG47ebqXLKhy9s7C5DUJvt9JlFa6qt+p+LcsknIBYYmsnl6qhVRewdlxUf1b0rl8jywrR25Jm/bnQu36NLCtU1Vt1v2bpHU5ALGkW5lI1tOoCVmgXt+Ho7Va6rMLROwub2yD0ditdVuGqeqvu17JMwgmIJbZ2cqkaWnUBa8dF9WdF7/o1sqwQvS1p1p8LvevXyLJCVb1V92uW3uEExJJmYS5VQ6suYIV2cRuO3m6lyyocvbOwuQ1Cb7fSZRWuqrfqfi3LJJyAWGJrJ5eqoVUXsHZcVH9W9K5fI8sK0duSZv250Lt+jSwrVNVbdb9m6R1OQCxpFuZSNbTqAlZoF7fh6O1WuqzC0TsLm9sg9HYrXVbhqnqr7teyTMIJiCW2dnKpGlp1AWvHRfVnRe/6NbKsEL0tadafC73r18iyQlW9Vfdrlt7hBMSSZmEuVUOrLmCFdnEbjt5upcsqHL2zsLkNQm+30mUVrqq36n4tyyScgFhiayeXqqFVF7B2XFR/VvSuXyPLCtHbkmb9udC7fo0sK1TVW3W/ZukdTkAsaRbmUjW06gJWaBe34ejtVrqswtE7C5vbIPR2K11W4ap6q+7XskzCCYgltnZyqRpadQFrx0X1Z0Xv+jWyrBC9LWnWnwu969fIskJVvVX3a5be4QTEkmZhLlVDqy5ghXZxG47ebqXLKhy9s7C5DUJvt9JlFa6qt+p+LcsknIBYYmsnl6qhVRewdlxUf1b0rl8jywrR25Jm/bnQu36NLCtU1Vt1v2bpHU5ALGkW5lI1tOoCVmgXt+Ho7Va6rMLROwub2yD0ditdVuGqeqvu17JMwgmIJbZ2cqkaWnUBa8dF9WdF7/o1sqwQvS1p1p8LvevXyLJCVb1V92uW3uEExJJmYS5VQ6suYIV2cRuO3m6lyyocvbOwuQ1Cb7fSZRWuqrfqfi3LJJyAWGJrJ5eqoVUXsHZcVH9W9K5fI8sK0duSZv250Lt+jSwrVNVbdb9m6R1OQCxpFuZSNbTqAlZoF7fh6O1WuqzC0TsLm9sg9HYrXVbhqnqr7teyTMIJiCW2dnKpGlp1AWvHRfVnRe/6NbKsEL0tadafC73r18iyQlW9Vfdrlt7hBMSSZmEuVUOrLmCFdnEbjt5upcsqHL2zsLkNQm+30mUVrqq36n4tyyScgFhiayeXqqFVF7B2XFR/VvSuXyPLCtHbkmb9udC7fo0sK1TVW3W/ZukdTkAyaD799NPh8ssvD9/4xjfCXXfdFX7729+G8ePHhwMPPDCceuqpYezYsRlZQ1A1tOoClmWSDgShdwdETLgE9E6A1YGh6N0BERMuQVVv1f1agjVGHEoDMiKilQfcfffdYaeddgr77LNPmDp1athoo43CnDlzwiWXXNJrROJ/HzNmTHJmVUOrLmDJBulIAHp3RMiGl4HeDUF1ZBh6d0TIhpehqrfqfq2hLRoNowFphOn5gxYuXBgeffTRXhOy4uvSSy8N73jHO8LZZ58dTjrppOTMqoZWXcCSDdKRAPTuiJANLwO9G4LqyDD07oiQDS9DVW/V/VpDWzQaRgPSCFOzQYsWLQrrr79+OOqoo8LnP//5ZkErjFI1tOoClmyQjgSgd0eEbHgZ6N0QVEeGoXdHhGx4Gap6q+7XGtqi0TAakEaYmg365S9/GbbbbrvwwQ9+MJx++unNgmhAguoClmyQjgSgd0eEbHgZ6N0QVEeGoXdHhGx4Gap604A0NMgqhtGAlDNcnuFtb3tbuOKKK8JPf/rTsPPOO68y84IFC0L8Z8XX3Llzw7Rp08LMmTNHjDcse7WnWrx4ce8G/IkTJ4bRo0ev9noooF0C6N0u39qyo3dtirRbD3q3y7e27Kp633nnnWHKlCm9e37j3oVXOgH5BmTZsmVh3rx5jcitt956YfPNNx9y7MUXXxyOOeaY3r0f8R6QkV6nnXZamDFjxpDDYvyECRNGSsG/hwAEIAABCEAAAhDoM4G4b5w+fToNSAF3+QZk/vz5Ycstt2yEcPLkyb3TicGvr3/96+Gwww4LBxxwQLjmmmvCGmusMWI+TkD+gkj1LygjmqSjA9C7o8IOc1nojd5aBLSuVnV+cwJS7nP5BmTp0qVh1qxZjUhuuOGGYffdd3/e2O985zvhoIMOCnvttVf45je/GdZZZ51GuYYapPqdQtXvkGYbxXkgejsXMLF89E4E5nw4ejsXMLF8Vb1V92uJ9ljlcPkGpARmbFz233//sOOOO4abbropvPjFLy5Jx4MIJ0/OfohjEXiC+0pA9QOrr5ArejP0rkiMPpSC3n2AXNFbqOpNA1JuQhqQTIY//OEPw7777tv7+lZsRDbYYIPMTH8JUzW06gJWbBinCdDbqXCZZaN3JjinYejtVLjMslX1Vt2vZdpkyDAakAyaDz74YNhll11C/O7jGWecETbeeOPnZYn/e7/99kvOrGpo1QUs2SAdCUDvjgjZ8DLQuyGojgxD744I2fAyVPVW3a81tEWjYTQgjTA9f1C8Ef01r3nNsJHD3aw+0lupGlp1ARvJD1399+jdVWWHvi70Rm8tAlpXqzq/Vfdrlu6mAbGkWZhL1dCqC1ihXdyGo7db6bIKR+8sbG6D0NutdFmFq+qtul/LMskwQTQgljQLc6kaWnUBK7SL23D0ditdVuHonYXNbRB6u5Uuq3BVvVX3a1kmoQGxxNZOLlVDqy5g7bio/qzoXb9GlhWityXN+nOhd/0aWVaoqrfqfs3SO5yAWNIszKVqaNUFrNAubsPR2610WYWjdxY2t0Ho7Va6rMJV9Vbdr2WZhBMQS2zt5FI1tOoC1o6L6s+K3vVrZFkhelvSrD8XetevkWWFqnqr7tcsvcMJiCXNwlyqhlZdwArt4jYcvd1Kl1U4emdhcxuE3m6lyypcVW/V/VqWSTgBscTWTi5VQ6suYO24qP6s6F2/RpYVorclzfpzoXf9GllWqKq36n7N0jucgFjSLMylamjVBazQLm7D0dutdFmFo3cWNrdB6O1WuqzCVfVW3a9lmYQTEEts7eRSNbTqAtaOi+rPit71a2RZIXpb0qw/F3rXr5Flhap6q+7XLL3DCYglzcJcqoZWXcAK7eI2HL3dSpdVOHpnYXMbhN5upcsqXFVv1f1alkk4AbHE1k4uVUOrLmDtuKj+rOhdv0aWFaK3Jc36c6F3/RpZVqiqt+p+zdI7nIBY0izMpWpo1QWs0C5uw9HbrXRZhaN3Fja3QejtVrqswlX1Vt2vZZmEExBLbO3kUjW06gLWjovqz4re9WtkWSF6W9KsPxd616+RZYWqeqvu1yy9wwmIJc3CXKqGVl3ACu3iNhy93UqXVTh6Z2FzG4TebqXLKlxVb9X9WpZJOAGxxNZOLlVDqy5g7bio/qzoXb9GlhWityXN+nOhd/0aWVaoqrfqfs3SO5yAWNIszKVqaNUFrNAubsPR2610WYWjdxY2t0Ho7Va6rMJV9Vbdr2WZhBMQS2zt5FI1tOoC1o6L6s+K3vVrZFkhelvSrD8XetevkWWFqnqr7tcsvcMJiCXNwlyqhlZdwArt4jYcvd1Kl1U4emdhcxuE3m6lyypcVW/V/VqWSTgBscTWTi5VQ6suYO24qP6s6F2/RpYVorclzfpzoXf9GllWqKq36n7N0jucgFjSLMylamjVBazQLm7D0dutdFmFo3cWNrdB6O1WuqzCVfVW3a9lmYQTEEts7eRSNbTqAtaOi+rPit71a2RZIXpb0qw/F3rXr5Flhap6q+7XLL3DCYglzcJcqoZWXcAK7eI2HL3dSpdVOHpnYXMbhN5upcsqXFVv1f1alkk4AbHE1k4uVUOrLmDtuKj+rOhdv0aWFaK3Jc36c6F3/RpZVqiqt+p+zdI7nIBY0izMpWpo1QWs0C5uw9HbrXRZhaN3Fja3QejtVrqswlX1Vt2vZZmEExBLbO3kUjW06gLWjovqz4re9WtkWSF6W9KsPxd616+RZYWqeqvu1yy9wwmIJc3CXKqGVl3ACu3iNhy93UqXVTh6Z2FzG4TebqXLKlxVb9X9WpZJOAGxxNZOLlVDqy5g7bio/qzoXb9GlhWityXN+nOhd/0aWVaoqrfqfs3SO5yAWNIszKVqaNUFrNAubsPR2610WYWjdxY2t0Ho7Va6rMJV9Vbdr2WZhBMQS2zt5FI1tOoC1o6L6s+K3vVrZFkhelvSrD8XetevkWWFqnqr7tcsvcMJiCXNwlyqhlZdwArt4jYcvd1Kl1U4emdhcxuE3m6lyypcVW/V/VqWSTgBscTWTi5VQ6suYO24qP6s6F2/RpYVorclzfpzoXf9GllWqKq36n7N0jucgFjSLMylamjVBazQLm7D0dutdFmFo3cWNrdB6O1WuqzCVfVW3a9lmYQTEEts7eRSNbTqAtaOi+rPit71a2RZIXpb0qw/F3rXr5Flhap6q+7XLL3DCYglzcJcqoZWXcAK7eI2HL3dSpdVOHpnYXMbhN5upcsqXFVv1f1alkk4AbHE1k4uVUOrLmDtuKj+rOhdv0aWFaK3Jc36c6F3/RpZVqiqt+p+zdI7nIBY0izMpWpo1QWs0C5uw9HbrXRZhaN3Fja3QejtVrqswlX1Vt2vZZmEExBLbO3kUjW06gLWjovqz4re9WtkWSF6W9KsPxd616+RZYWqeqvu1yy9wwmIJc3CXKqGVl3ACu3iNhy93UqXVTh6Z2FzG4TebqXLKlxVb9X9WpZJOAGxxNZOLlVDqy5g7bio/qzoXb9GlhWityXN+nOhd/0aWVaoqrfqfs3SO5yAWNIszKVqaNUFrNAubsPR2610WYWjdxY2t0Ho7Va6rMJV9Vbdr2WZhBMQS2zt5FI1tOoC1o6L6s+K3vVrZFkhelvSrD8XetevkWWFqnqr7tcsvcMJiCXNwlyqhlZdwArt4jYcvd1Kl1U4emdhcxuE3m6lyypcVW/V/VqWSTgBscTWTi5VQ6suYO24qP6s6F2/RpYVorclzfpzoXf9GllWqKq36n7N0jucgFjSLMylamjVBazQLm7D0dutdFmFo3cWNrdB6O1WuqzCVfVW3a9lmYQTEEts7eRSNbTqAtaOi+rPit71a2RZIXpb0qw/F3rXr5Flhap6q+7XLL3DCYglzcJcqoZWXcAK7eI2HL3dSpdVOHpnYXMbhN5upcsqXFVv1f1alkk4AbHE1k4uVUOrLmDtuKj+rOhdv0aWFaK3Jc36c6F3/RpZVqiqt+p+zdI7nIBY0izMpWpo1QWs0C5uw9HbrXRZhaN3Fja3QejtVrqswlX1Vt2vZZmEExBLbO3kUjW06gLWjovqz4re9WtkWSF6W9KsPxd616+RZYWqeqvu1yy9wwmIJc3CXKqGVl3ACu3iNhy93UqXVTh6Z2FzG4TebqXLKlxVb9X9WpZJOAGxxNZOLlVDqy5g7bio/qzoXb9GlhWityXN+nOhd/0aWVaoqrfqfs3SO5yAWNIszKVqaNUFrNAubsPR2610WYWjdxY2t0Ho7Va6rMJV9Vbdr2WZhBMQS2zt5FI1tOoC1o6L6s+K3vVrZFkhelvSrD8XetevkWWFqnqr7tcsvcMJiCXNwlyqhlZdwArt4jYcvd1Kl1U4emdhcxuE3m6lyypcVW/V/VqWSTgBscTWTi5VQ6suYO24qP6s6F2/RpYVorclzfpzoXf9GllWqKq36n7N0jucgFjSLMylamjVBazQLm7D0dutdFmFo3cWNrdB6O1WuqzCVfVW3a9lmYQTEEts7eRSNbTqAtaOi+rPit71a2RZIXpb0qw/F3rXr5Flhap6q+7XLL3DCYglzcJcqoZWXcAK7eI2HL3dSpdVOHpnYXMbhN5upcsqXFVv1f1alkk4AbHE1k4uVUOrLmDtuKj+rOhdv0aWFaK3Jc36c6F3/RpZVqiqt+p+zdI7nIBY0izMpWpo1QWs0C5uw9HbrXRZhaN3Fja3QejtVrqswlX1Vt2vZZmEExBLbO3kUjW06gLWjovqz4re9WtkWSF6W9KsPxd616+RZYWqeqvu1yy9wwmIJc3CXKqGVl3ACu3iNhy93UqXVTh6Z2FzG4TebqXLKlxVb9X9WpZJOAGxxNZOLlVDqy5g7bio/qzoXb9GlhWityXN+nOhd/0aWVaoqrfqfs3SO5yAWNIszKVqaNUFrNAubsPR2610WYWjdxY2t0Ho7Va6rMJV9Vbdr2WZhBMQS2zt5FI1tOoC1o6L6s+K3vVrZFkhelvSrD8XetevkWWFqnqr7tcsvcMJiCXNwlyqhlZdwArt4jYcvd1Kl1U4emdhcxuE3m6lyypcVW/V/VqWSTgBscTWTi5VQ6suYO24qP6s6F2/RpYVorclzfpzoXf9GllWqKq36n7N0jucgFjSLMylamjVBazQLm7D0dutdFmFo3cWNrdB6O1WuqzCVfVW3a9lmYQTEEts7eRSNbTqAtaOi+rPit71a2RZIXpb0qw/F3rXr5Flhap6q+7XLL3DCYglzcJcqoZWXcAK7eI2HL3dSpdVOHpnYXMbhN5upcsqXFVv1f1alkk4sUBzOgAAF5ZJREFUAbHE1k4uVUOrLmDtuKj+rOhdv0aWFaK3Jc36c6F3/RpZVqiqt+p+zdI7nIBY0izMpWpo1QWs0C5uw9HbrXRZhaN3Fja3QejtVrqswlX1Vt2vZZmEExBLbO3kUjW06gLWjovqz4re9WtkWSF6W9KsPxd616+RZYWqeqvu1yy9wwmIJc3CXKqGVl3ACu3iNhy93UqXVTh6Z2FzG4TebqXLKlxVb9X9WpZJOAGxxNZOLlVDqy5g7bio/qzoXb9GlhWityXN+nOhd/0aWVaoqrfqfs3SO5yAWNIszKVqaNUFrNAubsPR2610WYWjdxY2t0Ho7Va6rMJV9Vbdr2WZhBMQS2zt5FI1tOoC1o6L6s+K3vVrZFkhelvSrD8XetevkWWFqnqr7tcsvcMJiCXNwlyqhlZdwArt4jYcvd1Kl1U4emdhcxuE3m6lyypcVW/V/VqWSTgBscTWTi5VQ6suYO24qP6s6F2/RpYVorclzfpzoXf9GllWqKq36n7N0jucgFjSLMylamjVBazQLm7D0dutdFmFo3cWNrdB6O1WuqzCVfVW3a9lmYQTEEtsK+eaPHly+N73vheOOOKIcMUVV2S9maqhVRewLJN0IAi9OyBiwiWgdwKsDgxF7w6ImHAJqnqr7tcSrDHiUE5ARkQ08oDLL788HHfccWHJkiU0ICPjWmmE6gKWgaoTIejdCRkbXwR6N0bViYHo3QkZG1+Eqt40II0tMuxAGpBChnHyvfzlLw/ve9/7wimnnEIDksFTdQHLQNWJEPTuhIyNLwK9G6PqxED07oSMjS9CVW8akMYWoQEpRzV0hne/+93hxhtvDHfffXdYe+21aUAyQKsuYBmoOhGC3p2QsfFFoHdjVJ0YiN6dkLHxRajqTQPS2CI0IOWoVs4wZ86csPvuu4frr78+7L///uEFL3gBDUgGaNUFLANVJ0LQuxMyNr4I9G6MqhMD0bsTMja+CFW9aUAaW4QGpBzV8zM899xzYY899gibbLJJuPbaa3v/MqUBWbBgQYj/rPiaO3dumDZtWpg5c2bYeeedrUuuNt/ixYtDnMwTJ04Mo0ePrrZOCrMhgN42HL1kQW8vStnUid42HL1kUdX7zjvvDFOmTAnxD9Fx78IrnYD8PSDLli0L8+bNa0RuvfXWC5tvvnlv7IUXXti77+Oee+4JW265ZXIDctppp4UZM2YM+b5nn312mDBhQqOaGAQBCEAAAhCAAAQg0D8Ccd84ffp0GpAC5PINyPz585c3ECNxjD+1G08nnnjiid6N5+95z3vCRz/60eVhnICMRHDof6/6F5Q8Wv6j0Nu/hilXgN4ptPyPRW//GqZcgarenICkuGTosfINyNKlS8OsWbMakdxwww1793wcf/zx4Utf+lKvGVl33XWXx26zzTbh4IMPDp/85CfDuHHjwtixYxvlHRik+p1C1e+QJpmjQ4PRu0NiNrgU9G4AqUND0LtDYja4FFW9VfdrDSzReIh8A9KY1AoDDznkkOX3fQwXf9ZZZ4X3v//9SelVDa26gCWZo0OD0btDYja4FPRuAKlDQ9C7Q2I2uBRVvVX3aw0s0XgIDUhjVH8ZeNttt4VHHnlkpcg3velNYZ999gnvfe97w0477RS23XbbpOyqhlZdwJLM0aHB6N0hMRtcCno3gNShIejdITEbXIqq3qr7tQaWaDyEBqQxqpEHptwDMlQ2VUOrLmAjO6qbI9C7m7oOd1Xojd5aBLSuVnV+q+7XLN1NA2JIkwYkD6bqApZHy38UevvXMOUK0DuFlv+x6O1fw5QrUNWbBiTFJUOPpQEpZ2iWQdXQqguYmXGcJUJvZ4IVlovehQCdhaO3M8EKy1XVW3W/VmiX54XTgFjSLMylamjVBazQLm7D0dutdFmFo3cWNrdB6O1WuqzCVfVW3a9lmWSYIBoQS5qFuVQNrbqAFdrFbTh6u5Uuq3D0zsLmNgi93UqXVbiq3qr7tSyT0IBYYmsnl6qhVRewdlxUf1b0rl8jywrR25Jm/bnQu36NLCtU1Vt1v2bpHU5ALGkW5lI1tOoCVmgXt+Ho7Va6rMLROwub2yD0ditdVuGqeqvu17JMwgmIJbZ2cqkaWnUBa8dF9WdF7/o1sqwQvS1p1p8LvevXyLJCVb1V92uW3uEExJJmYS5VQ6suYIV2cRuO3m6lyyocvbOwuQ1Cb7fSZRWuqrfqfi3LJJyAWGJrJ5eqoVUXsHZcVH9W9K5fI8sK0duSZv250Lt+jSwrVNVbdb9m6R1OQCxpFuZSNbTqAlZoF7fh6O1WuqzC0TsLm9sg9HYrXVbhqnqr7teyTMIJiCW2dnKpGlp1AWvHRfVnRe/6NbKsEL0tadafC73r18iyQlW9Vfdrlt7hBMSSZmEuVUOrLmCFdnEbjt5upcsqHL2zsLkNQm+30mUVrqq36n4tyyScgFhiayeXqqFVF7B2XFR/VvSuXyPLCtHbkmb9udC7fo0sK1TVW3W/ZukdTkAsaRbmUjW06gJWaBe34ejtVrqswtE7C5vbIPR2K11W4ap6q+7XskzCCYgltnZyqRpadQFrx0X1Z0Xv+jWyrBC9LWnWnwu969fIskJVvVX3a5be4QTEkmZhLlVDqy5ghXZxG47ebqXLKhy9s7C5DUJvt9JlFa6qt+p+LcsknIBYYmsnl6qhVRewdlxUf1b0rl8jywrR25Jm/bnQu36NLCtU1Vt1v2bpHU5ALGkW5lI1tOoCVmgXt+Ho7Va6rMLROwub2yD0ditdVuGqeqvu17JMwgmIJbZ2cqkaWnUBa8dF9WdF7/o1sqwQvS1p1p8LvevXyLJCVb1V92uW3uEExJJmYS5VQ6suYIV2cRuO3m6lyyocvbOwuQ1Cb7fSZRWuqrfqfi3LJJyAWGJrJ5eqoVUXsHZcVH9W9K5fI8sK0duSZv250Lt+jSwrVNVbdb9m6R1OQCxpFuZSNbTqAlZoF7fh6O1WuqzC0TsLm9sg9HYrXVbhqnqr7teyTMIJiCW2dnKpGlp1AWvHRfVnRe/6NbKsEL0tadafC73r18iyQlW9Vfdrlt7hBMSSZmEuVUOrLmCFdnEbjt5upcsqHL2zsLkNQm+30mUVrqq36n4tyyScgFhiayeXqqFVF7B2XFR/VvSuXyPLCtHbkmb9udC7fo0sK1TVW3W/ZukdTkAsaRbmUjW06gJWaBe34ejtVrqswtE7C5vbIPR2K11W4ap6q+7XskzCCYgltnZyqRpadQFrx0X1Z0Xv+jWyrBC9LWnWnwu969fIskJVvVX3a5be4QTEkmZhLlVDqy5ghXZxG47ebqXLKhy9s7C5DUJvt9JlFa6qt+p+LcsknIBYYmsnl6qhVRewdlxUf1b0rl8jywrR25Jm/bnQu36NLCtU1Vt1v2bpHU5ALGkW5lI1tOoCVmgXt+Ho7Va6rMLROwub2yD0ditdVuGqeqvu17JMwgmIJbZ2cqkaWnUBa8dF9WdF7/o1sqwQvS1p1p8LvevXyLJCVb1V92uW3uEExJJmYS5VQ6suYIV2cRuO3m6lyyocvbOwuQ1Cb7fSZRWuqrfqfi3LJJyAWGJrJ5eqoVUXsHZcVH9W9K5fI8sK0duSZv250Lt+jSwrVNVbdb9m6R1OQCxpFuZSNbTqAlZoF7fh6O1WuqzC0TsLm9sg9HYrXVbhqnqr7teyTMIJiCW2dnKpGlp1AWvHRfVnRe/6NbKsEL0tadafC73r18iyQlW9Vfdrlt7hBMSSZmEuVUOrLmCFdnEbjt5upcsqHL2zsLkNQm+30mUVrqq36n4tyyScgFhiayeXqqFVF7B2XFR/VvSuXyPLCtHbkmb9udC7fo0sK1TVW3W/ZukdTkAsaRbmUjW06gJWaBe34ejtVrqswtE7C5vbIPR2K11W4ap6q+7XskzCCYgltnZyqRpadQFrx0X1Z0Xv+jWyrBC9LWnWnwu969fIskJVvVX3a5be4QTEkmZhrtmzZ4e99947XHHFFWH77bcvzOYnfPHixWHOnDlh1113DaNHj/ZTOJVmEUDvLGxug9DbrXRZhaN3Fja3Qap6z507N0ybNi18//vfD5MmTXKr3+osnAZkddIf9N5XXnllz9C8IAABCEAAAhCAAATqJhD/YHzEEUfUXWSl1dGAVCTMwoULw7e//e0wfvz4sO6661ZUWbulDPwlQe3kp12q9WZH73q1aaMy9G6Dar050btebdqoTFXvpUuXhvnz54epU6eGcePGtYG28zlpQDovcf0XyHcp69fIskL0tqRZfy70rl8jywrR25Jm/bnQu36Naq2QBqRWZYTqYgETEjuEgN7orUVA62qZ3+itRYCrzSVAA5JLjjgzAnxgmaF0kQi9XchkViR6m6F0kQi9XchkViR6m6GUS0QDIid5fRfMAlafJm1WhN5t0q0vN3rXp0mbFaF3m3Try43e9WnipSIaEC9KdbjOBQsWhIsuuigcc8wxYZNNNunwlXJpkQB6a/kAvdFbi4DW1TK/tfS2vFoaEEua5IIABCAAAQhAAAIQgAAEVkmABgSDQAACEIAABCAAAQhAAAJ9I0AD0jfUvBEEIAABCEAAAhCAAAQgQAOCByAAAQhAAAIQgAAEIACBvhGgAekbat4IAhCAAAQgAAEIQAACEKABwQMQgAAEIAABCEAAAhCAQN8I0ID0DTVvlEtg8uTJ4Xvf+1444ogjwhVXXJGbhrgKCTz99NPh8ssvD9/4xjfCXXfdFX7729+G8ePHhwMPPDCceuqpYezYsRVWTUlNCPzpT38KZ511VrjkkkvCww8/HDbbbLNw9NFHhw984APhRS96UZMUjHFC4Mc//nFvbb755pvDAw88EEaNGhV22GGHcMopp4R9993XyVVQZi6BqPtrX/vaXvh9990Xtt5669xUxAkRoAEREtvjpcbN6XHHHReWLFlCA+JRwBFqvvvuu8NOO+0U9tlnnzB16tSw0UYbhTlz5vQ2rbERif99zJgxHbzy7l9SnLcXXHBBOPLII8Nee+0Vbr311nDZZZf15vPnPve57gMQusLDDjsszJo1K7zxjW8MEydODE899VRP6zi/zz///PCud71LiIbWpT7zzDNh55137v2RIX5O04Bo6V9ytTQgJfSIbZXAH/7wh/Dyl788vO997+v9JY0TkFZxr5bkCxcuDI8++mivCVnxdemll4Z3vOMd4eyzzw4nnXTSaqmNN80nEE+z4qbk+OOPD+ecc87yRCeccEI477zzwp133hl23HHH/DcgsioCs2fPDrvttltYe+21l9e1dOnS8KpXvSo88cQT4fHHHw9rrLFGVTVTjA2B008/PXzmM58Jhx9+eO8/aUBsuCpkoQFRUNnpNb773e8ON954Y++vaPGDjQbEqZAZZS9atCisv/764aijjgqf//znMzIQsjoJfOhDHwof//jHw69+9auw5ZZbLi8lfj1nq6226n297mMf+9jqLJH37gOB6dOnh0996lPhoYce6n0Fj1e3CDz44IPhFa94RfjsZz8b4n+fMWMGDUi3JG71amhAWsVL8lwC8as3u+++e7j++uvD/vvvH17wghfQgOTCdBj3y1/+Mmy33Xbhgx/8YIh/YePli0D8Ol085XjsscdWKnzjjTcOu+yyS7jhhht8XRTVJhN461vfGq6++uoQT7PjfSG8ukXg4IMP7p1uxa9XxuaDBqRb+rZ9NTQgbRMmfzKB5557Luyxxx5hk002Cddee20vngYkGaPrgLe97W29m1p/+tOf9r7Kw8sXgfj1qrXWWqt3D8/gV7xHYNmyZb0fHeDVXQJz587tfQUr/qDEV7/61e5eqOiVxT8Oxgbk9ttvD7vuums47bTTaEBEvZB72TQgueSIG5FA3GTMmzdvxHFxwHrrrRc233zz3tgLL7ywd9/HPffcs/zrGzQgjTCu1kG5eg8u+uKLLw7HHHNM796PeA8IL38EJkyYEOJJR/zL6OBXvCE9/tX0/vvv93dhVNyIwJNPPhn23HPPsGDBgt5J2MDa3iiYQdUTiPf3xF8522+//cJFF13Uq5cGpHrZqiuQBqQ6SbpT0Pz585/3/e9VXVn8qd2ZM2f2bliMN56/5z3vCR/96EeXh9CA1O+LHL0HX9XXv/71EH9R54ADDgjXXHMNN67WL/uQFXIC4lQ4g7Lj5jR+Be9HP/pR72t2cW3n1S0CH/7wh3u/bnbvvfeGcePG0YB0S96+XQ0NSN9Q671R/CCKP83Y5LXhhhv27vmIv5rzpS99qdeMrLvuustDt9lmm95x7yc/+cnegsfzIZpQ7e+YHL1XrPA73/lOOOigg3o/2frNb34zrLPOOv29AN7NjAD3gJihdJUo/iRrnMPxuRDxDwjx61e8ukUg/mph/CGJE088sfdcn4HXueee2/uFu5tuuqn3E+pxDC8IrIoADQj+qIrAIYccsvy+j+EKiw83e//7319V3RRTRiA2qvHHBuJfzuMH2Itf/OKyhESvVgLxV67ijwfwK1irVYa+vvmzzz7bO7287rrrwpVXXhne8pa39PX9ebP+ELjjjjt6PyKxqlf8wYH4LBheEKABwQNuCNx2223hkUceWaneN73pTb2H1b33ve/tPTNi2223dXNNFLpqAj/84Q97T0uOP9caG5ENNtgAZM4JxO/9x03KcM8BiZuYwc9+cX7J0uXHHw6Jz4H48pe/HOI9XO985zuleXT54uP9PfHn8Qe/rrrqqvCVr3yldwqy6aabhvjHRF4QoAHBA+4JcA+IewmHvID42/Fxo7p48eJwxhln9G5cXvEV/3e80ZGXPwLHHnts7wbV+CT0SZMmhfiwuvh07PgDA/GHJnh1h0D8wYhPf/rTvfs9VvxazsAVxjk8eG535+q5kkiAm9DxQSoBvoKVSozxq4UADchqwd76m8Z7fV7zmtcM+z4DP07QeiG8gTmB+JWcM888M1xyySXh17/+de+vonFzevLJJ/PjAua0V2/CKVOmrPJ+v+9+97shjuHVXQI0IN3Vtq0rowFpiyx5IQABCEAAAhCAAAQgAIGVCNCAYAoIQAACEIAABCAAAQhAoG8EaED6hpo3ggAEIAABCEAAAhCAAARoQPAABCAAAQhAAAIQgAAEINA3AjQgfUPNG0EAAhCAAAQgAAEIQAACNCB4AAIQgAAEIAABCEAAAhDoGwEakL6h5o0gAAEIQAACEIAABCAAARoQPAABCEAAAhCAAAQgAAEI9I0ADUjfUPNGEIAABCAAAQhAAAIQgAANCB6AAAQgAAEIQAACEIAABPpGgAakb6h5IwhAAAIQgAAEIAABCECABgQPQAACEIAABCAAAQhAAAJ9I0AD0jfUvBEEIAABCEAAAhCAAAQgQAOCByAAAQhAAAIQgAAEIACBvhGgAekbat4IAhCAAAQgAAEIQAACEKABwQMQgAAEIAABCEAAAhCAQN8I0ID0DTVvBAEIQAACEIAABCAAAQjQgOABCEAAAhCAAAQgAAEIQKBvBGhA+oaaN4IABCAAAQhAAAIQgAAEaEDwAAQgAAEIQAACEIAABCDQNwI0IH1DzRtBAAIQgAAEIAABCEAAAjQgeAACEIAABCAAAQhAAAIQ6BsBGpC+oeaNIAABCEAAAhCAAAQgAAEaEDwAAQhAAAIQgAAEIAABCPSNAA1I31DzRhCAAAQgAAEIQAACEIAADQgegAAEIAABCEAAAhCAAAT6RoAGpG+oeSMIQAACEIAABCAAAQhAgAYED0AAAhCAAAQgAAEIQAACfSNAA9I31LwRBCAAAQhAAAIQgAAEIEADggcgAAEIQAACEIAABCAAgb4RoAHpG2reCAIQgAAEIAABCEAAAhCgAcEDEIAABCAAAQhAAAIQgEDfCNCA9A01bwQBCEAAAhCAAAQgAAEI0IDgAQhAAAIQgAAEIAABCECgbwRoQPqGmjeCAAQgAAEIQAACEIAABGhA8AAEIAABCEAAAhCAAAQg0DcCNCB9Q80bQQACEIAABCAAAQhAAAI0IHgAAhCAAAQgAAEIQAACEOgbARqQvqHmjSAAAQhAAAIQgAAEIAABGhA8AAEIQAACEIAABCAAAQj0jcD/B7PEEC+1YCV9AAAAAElFTkSuQmCC\" width=\"640\">"
      ],
      "text/plain": [
       "<IPython.core.display.HTML object>"
      ]
     },
     "metadata": {},
     "output_type": "display_data"
    },
    {
     "name": "stdout",
     "output_type": "stream",
     "text": [
      "orig interactions:  1\n",
      "All interactions : 3\n",
      "Number of microstates : 17\n",
      "Number of moves: 0\n",
      "5.926080942153931\n"
     ]
    }
   ],
   "source": [
    "# #1000 ITERATIONS WITHOUT INTERACTIONS\n",
    "coords = np.mat([x_orig,y_orig]).T\n",
    "%matplotlib notebook\n",
    "fig = plt.figure()\n",
    "Int_En = 9\n",
    "Rand_Int=0\n",
    "n = 100\n",
    "moves = 0\n",
    "rad_gyr_data = np.zeros(n)\n",
    "# plt.xlim(-5,5)\n",
    "# plt.ylim(-5,5)\n",
    "\n",
    "ax = fig.add_subplot(111)\n",
    "fig.show()\n",
    "energy = -0.25\n",
    "start = time.time()\n",
    "for i in range(n):\n",
    "    p = random.randint(0,15)\n",
    "    if p == 15 or p == 0:\n",
    "        end_move(p,energy)\n",
    "    else:\n",
    "        corner_move(p,energy)\n",
    "    rad_gyr_data[i] = rad_gyr(coords)\n",
    "    \n",
    "# x_com = sum(coords[:,0])/16\n",
    "# y_com = sum(coords[:,1])/16\n",
    "    plt.cla()\n",
    "    plt.xlim(-5,5)\n",
    "    plt.ylim(-5,5)\n",
    "    ax.plot(coords[:,0],coords[:,1],marker ='o')\n",
    "    plt.title('Protein Unfolding')\n",
    "    ax.grid()\n",
    " \n",
    "    fig.canvas.draw()\n",
    "    time.sleep(0.01)\n",
    "\n",
    "# plt.plot(coords[:,0],coords[:,1], marker='o')\n",
    "# plt.xlim(x_com-2.5,x_com+2.5)\n",
    "# plt.ylim(y_com-2.5,y_com+2.5)\n",
    "\n",
    "\n",
    "for i in range(16):\n",
    "    for j in range(i+2,16):\n",
    "        if np.linalg.norm(coords[i] - coords[j]) == 1:\n",
    "#             plt.plot([coords[i,0],coords[j,0]],[coords[i,1],coords[j,1]], 'o:k')\n",
    "            Rand_Int = Rand_Int + 1\n",
    "# plt.plot(coords[:,0],coords[:,1], marker='o')\n",
    "\n",
    "# plt.show()\n",
    "print('orig interactions: ',orig_int_check(coords))\n",
    "print('All interactions :',Rand_Int)\n",
    "print('Number of microstates :',len(set(rad_gyr_data)))\n",
    "print('Number of moves:', moves)\n",
    "end = time.time()\n",
    "\n",
    "print(end - start)"
   ]
  },
  {
   "cell_type": "code",
   "execution_count": 133,
   "id": "f59e32b0",
   "metadata": {},
   "outputs": [
    {
     "name": "stdout",
     "output_type": "stream",
     "text": [
      "orig interactions:  1\n",
      "All interactions : 0\n",
      "Number of microstates : 14\n",
      "Number of moves: 22\n",
      "0.08104729652404785\n"
     ]
    }
   ],
   "source": [
    "#1000 ITERATIONS Export\n",
    "coords = np.mat([x_orig,y_orig]).T\n",
    "Int_En = 9\n",
    "Rand_Int=0\n",
    "n = 100\n",
    "moves = 0\n",
    "rad_gyr_data = np.zeros(n)\n",
    "e2e_data = np.zeros(n)\n",
    "energy = -0.25\n",
    "start = time.time()\n",
    "code_check = {}\n",
    "res_num = []\n",
    "int_energy = []\n",
    "for i in range(n):\n",
    "    p = random.randint(0,15)\n",
    "    res_num.append(p+1)\n",
    "    if p == 15 or p == 0:\n",
    "        end_move(p,energy)\n",
    "        int_energy.append(orig_int_check(coords)*energy)\n",
    "    else:\n",
    "        corner_move(p,energy)\n",
    "        int_energy.append(orig_int_check(coords)*energy)\n",
    "    rad_gyr_data[i] = rad_gyr(coords)\n",
    "    e2e_data[i] = math.dist(coords[0].T,coords[15].T)\n",
    "    \n",
    "    if rad_gyr_data[i] != rad_gyr_data[i-1] :\n",
    "        moves = moves+1\n",
    "\n",
    "        \n",
    "code_check['res_num'] = res_num\n",
    "code_check['interaction energy'] = int_energy\n",
    "code_check['radius of gyration'] = rad_gyr_data\n",
    "code_check['end-to-end Distance'] = e2e_data\n",
    "\n",
    "df = pd.DataFrame(code_check)\n",
    "df.to_csv(r'D:\\IIT Madras\\Course material\\4th Sem\\D BT2042 Biophysical\\Assignment_1_data\\Energy_2.csv', index=False, header=True)\n",
    "interaction_check(coords)\n",
    "print('orig interactions: ',orig_int_check(coords))\n",
    "print('All interactions :',Rand_Int)\n",
    "print('Number of microstates :',len(set(rad_gyr_data)))\n",
    "print('Number of moves:', moves)\n",
    "# print(code_check)\n",
    "end = time.time()\n",
    "print(end - start)"
   ]
  }
 ],
 "metadata": {
  "kernelspec": {
   "display_name": "Python 3 (ipykernel)",
   "language": "python",
   "name": "python3"
  },
  "language_info": {
   "codemirror_mode": {
    "name": "ipython",
    "version": 3
   },
   "file_extension": ".py",
   "mimetype": "text/x-python",
   "name": "python",
   "nbconvert_exporter": "python",
   "pygments_lexer": "ipython3",
   "version": "3.10.4"
  }
 },
 "nbformat": 4,
 "nbformat_minor": 5
}
